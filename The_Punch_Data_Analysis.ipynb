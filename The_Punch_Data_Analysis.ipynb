{
  "nbformat": 4,
  "nbformat_minor": 0,
  "metadata": {
    "colab": {
      "provenance": [],
      "collapsed_sections": [
        "Sq8dJQyG70ZK"
      ]
    },
    "kernelspec": {
      "name": "python3",
      "display_name": "Python 3"
    },
    "language_info": {
      "name": "python"
    }
  },
  "cells": [
    {
      "cell_type": "code",
      "execution_count": null,
      "metadata": {
        "colab": {
          "base_uri": "https://localhost:8080/"
        },
        "outputId": "398ce8be-7ed1-498f-a055-7379b1fb9b04",
        "id": "SHFpwZ2v_sY9"
      },
      "outputs": [
        {
          "output_type": "stream",
          "name": "stdout",
          "text": [
            "Mounted at /content/drive\n"
          ]
        }
      ],
      "source": [
        "from google.colab import drive\n",
        "drive.mount('/content/drive')"
      ]
    },
    {
      "cell_type": "code",
      "source": [
        "drive.mount(\"/content/drive\", force_remount=True)"
      ],
      "metadata": {
        "colab": {
          "base_uri": "https://localhost:8080/"
        },
        "id": "Z8fjFU7VXwgk",
        "outputId": "1d5d4de4-6aa5-4917-fb6a-1214d3640ea4"
      },
      "execution_count": null,
      "outputs": [
        {
          "output_type": "stream",
          "name": "stdout",
          "text": [
            "Mounted at /content/drive\n"
          ]
        }
      ]
    },
    {
      "cell_type": "code",
      "execution_count": null,
      "metadata": {
        "colab": {
          "base_uri": "https://localhost:8080/"
        },
        "outputId": "88008863-5e7b-4f6b-b607-15d9b835b67d",
        "id": "165d7D0h_sY_"
      },
      "outputs": [
        {
          "output_type": "stream",
          "name": "stdout",
          "text": [
            "2023-07-17 15:07:54.151779: W tensorflow/compiler/tf2tensorrt/utils/py_utils.cc:38] TF-TRT Warning: Could not find TensorRT\n",
            "Collecting en-core-web-sm==3.5.0\n",
            "  Downloading https://github.com/explosion/spacy-models/releases/download/en_core_web_sm-3.5.0/en_core_web_sm-3.5.0-py3-none-any.whl (12.8 MB)\n",
            "\u001b[2K     \u001b[90m━━━━━━━━━━━━━━━━━━━━━━━━━━━━━━━━━━━━━━━━\u001b[0m \u001b[32m12.8/12.8 MB\u001b[0m \u001b[31m81.7 MB/s\u001b[0m eta \u001b[36m0:00:00\u001b[0m\n",
            "\u001b[?25hRequirement already satisfied: spacy<3.6.0,>=3.5.0 in /usr/local/lib/python3.10/dist-packages (from en-core-web-sm==3.5.0) (3.5.4)\n",
            "Requirement already satisfied: spacy-legacy<3.1.0,>=3.0.11 in /usr/local/lib/python3.10/dist-packages (from spacy<3.6.0,>=3.5.0->en-core-web-sm==3.5.0) (3.0.12)\n",
            "Requirement already satisfied: spacy-loggers<2.0.0,>=1.0.0 in /usr/local/lib/python3.10/dist-packages (from spacy<3.6.0,>=3.5.0->en-core-web-sm==3.5.0) (1.0.4)\n",
            "Requirement already satisfied: murmurhash<1.1.0,>=0.28.0 in /usr/local/lib/python3.10/dist-packages (from spacy<3.6.0,>=3.5.0->en-core-web-sm==3.5.0) (1.0.9)\n",
            "Requirement already satisfied: cymem<2.1.0,>=2.0.2 in /usr/local/lib/python3.10/dist-packages (from spacy<3.6.0,>=3.5.0->en-core-web-sm==3.5.0) (2.0.7)\n",
            "Requirement already satisfied: preshed<3.1.0,>=3.0.2 in /usr/local/lib/python3.10/dist-packages (from spacy<3.6.0,>=3.5.0->en-core-web-sm==3.5.0) (3.0.8)\n",
            "Requirement already satisfied: thinc<8.2.0,>=8.1.8 in /usr/local/lib/python3.10/dist-packages (from spacy<3.6.0,>=3.5.0->en-core-web-sm==3.5.0) (8.1.10)\n",
            "Requirement already satisfied: wasabi<1.2.0,>=0.9.1 in /usr/local/lib/python3.10/dist-packages (from spacy<3.6.0,>=3.5.0->en-core-web-sm==3.5.0) (1.1.2)\n",
            "Requirement already satisfied: srsly<3.0.0,>=2.4.3 in /usr/local/lib/python3.10/dist-packages (from spacy<3.6.0,>=3.5.0->en-core-web-sm==3.5.0) (2.4.6)\n",
            "Requirement already satisfied: catalogue<2.1.0,>=2.0.6 in /usr/local/lib/python3.10/dist-packages (from spacy<3.6.0,>=3.5.0->en-core-web-sm==3.5.0) (2.0.8)\n",
            "Requirement already satisfied: typer<0.10.0,>=0.3.0 in /usr/local/lib/python3.10/dist-packages (from spacy<3.6.0,>=3.5.0->en-core-web-sm==3.5.0) (0.9.0)\n",
            "Requirement already satisfied: pathy>=0.10.0 in /usr/local/lib/python3.10/dist-packages (from spacy<3.6.0,>=3.5.0->en-core-web-sm==3.5.0) (0.10.2)\n",
            "Requirement already satisfied: smart-open<7.0.0,>=5.2.1 in /usr/local/lib/python3.10/dist-packages (from spacy<3.6.0,>=3.5.0->en-core-web-sm==3.5.0) (6.3.0)\n",
            "Requirement already satisfied: tqdm<5.0.0,>=4.38.0 in /usr/local/lib/python3.10/dist-packages (from spacy<3.6.0,>=3.5.0->en-core-web-sm==3.5.0) (4.65.0)\n",
            "Requirement already satisfied: numpy>=1.15.0 in /usr/local/lib/python3.10/dist-packages (from spacy<3.6.0,>=3.5.0->en-core-web-sm==3.5.0) (1.22.4)\n",
            "Requirement already satisfied: requests<3.0.0,>=2.13.0 in /usr/local/lib/python3.10/dist-packages (from spacy<3.6.0,>=3.5.0->en-core-web-sm==3.5.0) (2.27.1)\n",
            "Requirement already satisfied: pydantic!=1.8,!=1.8.1,<1.11.0,>=1.7.4 in /usr/local/lib/python3.10/dist-packages (from spacy<3.6.0,>=3.5.0->en-core-web-sm==3.5.0) (1.10.11)\n",
            "Requirement already satisfied: jinja2 in /usr/local/lib/python3.10/dist-packages (from spacy<3.6.0,>=3.5.0->en-core-web-sm==3.5.0) (3.1.2)\n",
            "Requirement already satisfied: setuptools in /usr/local/lib/python3.10/dist-packages (from spacy<3.6.0,>=3.5.0->en-core-web-sm==3.5.0) (67.7.2)\n",
            "Requirement already satisfied: packaging>=20.0 in /usr/local/lib/python3.10/dist-packages (from spacy<3.6.0,>=3.5.0->en-core-web-sm==3.5.0) (23.1)\n",
            "Requirement already satisfied: langcodes<4.0.0,>=3.2.0 in /usr/local/lib/python3.10/dist-packages (from spacy<3.6.0,>=3.5.0->en-core-web-sm==3.5.0) (3.3.0)\n",
            "Requirement already satisfied: typing-extensions>=4.2.0 in /usr/local/lib/python3.10/dist-packages (from pydantic!=1.8,!=1.8.1,<1.11.0,>=1.7.4->spacy<3.6.0,>=3.5.0->en-core-web-sm==3.5.0) (4.7.1)\n",
            "Requirement already satisfied: urllib3<1.27,>=1.21.1 in /usr/local/lib/python3.10/dist-packages (from requests<3.0.0,>=2.13.0->spacy<3.6.0,>=3.5.0->en-core-web-sm==3.5.0) (1.26.16)\n",
            "Requirement already satisfied: certifi>=2017.4.17 in /usr/local/lib/python3.10/dist-packages (from requests<3.0.0,>=2.13.0->spacy<3.6.0,>=3.5.0->en-core-web-sm==3.5.0) (2023.5.7)\n",
            "Requirement already satisfied: charset-normalizer~=2.0.0 in /usr/local/lib/python3.10/dist-packages (from requests<3.0.0,>=2.13.0->spacy<3.6.0,>=3.5.0->en-core-web-sm==3.5.0) (2.0.12)\n",
            "Requirement already satisfied: idna<4,>=2.5 in /usr/local/lib/python3.10/dist-packages (from requests<3.0.0,>=2.13.0->spacy<3.6.0,>=3.5.0->en-core-web-sm==3.5.0) (3.4)\n",
            "Requirement already satisfied: blis<0.8.0,>=0.7.8 in /usr/local/lib/python3.10/dist-packages (from thinc<8.2.0,>=8.1.8->spacy<3.6.0,>=3.5.0->en-core-web-sm==3.5.0) (0.7.9)\n",
            "Requirement already satisfied: confection<1.0.0,>=0.0.1 in /usr/local/lib/python3.10/dist-packages (from thinc<8.2.0,>=8.1.8->spacy<3.6.0,>=3.5.0->en-core-web-sm==3.5.0) (0.1.0)\n",
            "Requirement already satisfied: click<9.0.0,>=7.1.1 in /usr/local/lib/python3.10/dist-packages (from typer<0.10.0,>=0.3.0->spacy<3.6.0,>=3.5.0->en-core-web-sm==3.5.0) (8.1.4)\n",
            "Requirement already satisfied: MarkupSafe>=2.0 in /usr/local/lib/python3.10/dist-packages (from jinja2->spacy<3.6.0,>=3.5.0->en-core-web-sm==3.5.0) (2.1.3)\n",
            "\u001b[38;5;2m✔ Download and installation successful\u001b[0m\n",
            "You can now load the package via spacy.load('en_core_web_sm')\n"
          ]
        },
        {
          "output_type": "stream",
          "name": "stderr",
          "text": [
            "[nltk_data] Downloading package punkt to /root/nltk_data...\n",
            "[nltk_data]   Unzipping tokenizers/punkt.zip.\n",
            "[nltk_data] Downloading package wordnet to /root/nltk_data...\n",
            "[nltk_data] Downloading package averaged_perceptron_tagger to\n",
            "[nltk_data]     /root/nltk_data...\n",
            "[nltk_data]   Unzipping taggers/averaged_perceptron_tagger.zip.\n"
          ]
        }
      ],
      "source": [
        "# Import necessary modules\n",
        "from bs4 import BeautifulSoup\n",
        "import re\n",
        "import pandas as pd\n",
        "import requests\n",
        "import nltk\n",
        "import spacy\n",
        "!spacy download en_core_web_sm\n",
        "from nltk.tokenize import word_tokenize\n",
        "from nltk.stem import WordNetLemmatizer\n",
        "from nltk.tokenize import sent_tokenize\n",
        "from nltk.tokenize import SyllableTokenizer\n",
        "nltk.download('punkt')\n",
        "nltk.download('wordnet')\n",
        "nltk.download('averaged_perceptron_tagger')\n",
        "\n",
        "from spacy.lang.en.stop_words import STOP_WORDS"
      ]
    },
    {
      "cell_type": "markdown",
      "source": [
        "## Data Cleaning and Analysis Functions"
      ],
      "metadata": {
        "id": "2dTG__2a7fRp"
      }
    },
    {
      "cell_type": "code",
      "execution_count": null,
      "metadata": {
        "id": "lwbQ5Lnj_sZA"
      },
      "outputs": [],
      "source": [
        "# Scrape the data\n",
        "def scrape_data(url):\n",
        "  html_text = requests.get(url).text\n",
        "  soup = BeautifulSoup(html_text, 'lxml')\n",
        "\n",
        "  if soup:\n",
        "    titles = soup.find('h1', class_ = ['post-title', 'tdb-title-text'])\n",
        "\n",
        "  if titles == None:\n",
        "    return None\n",
        "  # Get all the titles in the article\n",
        "  for title in titles:\n",
        "      title_name = title.text\n",
        "\n",
        "  trying = soup.find_all('div', class_ = ['post-content', 'tdb-block-inner td-fix-index'])\n",
        "  new_page = []\n",
        "\n",
        "  # Get all the content using the 'p' tag because the content of the articleis stored in 'p' tags\n",
        "  for trial in trying:\n",
        "      # In each 'div' tag if there is no 'p' tag, move on to the next 'div' tag\n",
        "      if trial.find_all('p') == []:\n",
        "          continue\n",
        "      else:\n",
        "          # If there is a 'p' tag, find them  all and save them in the variable 'new page'\n",
        "          new_page = trial.find_all('p')\n",
        "\n",
        "  # The entire article is not saved in just 1 'p' tag but several\n",
        "  for i in range(len(new_page)):\n",
        "\n",
        "    # for each 'p' tag, save only the text\n",
        "    new_page[i] = new_page[i].text\n",
        "\n",
        "  page = ' '\n",
        "  # Convert the list into a single string\n",
        "  page = page.join(new_page)\n",
        "\n",
        "  # Join the article and the title together\n",
        "  article = title_name + \" \" + page\n",
        "\n",
        "  return article, title_name"
      ]
    },
    {
      "cell_type": "code",
      "execution_count": null,
      "metadata": {
        "id": "LGPxx__7_sZC"
      },
      "outputs": [],
      "source": [
        "# Function to remove stopwords\n",
        "def remove_stopwords(some_text):\n",
        "\n",
        "  # Remove hyperlinks\n",
        "  some_text = re.sub(r'http\\S+|www\\S+|https\\S+', '', some_text)\n",
        "\n",
        "  # Remove HTML tags\n",
        "  some_text = BeautifulSoup(some_text, 'html.parser').get_text()\n",
        "\n",
        "  # Remove anything that is not a word or white space\"\n",
        "  # some_text = re.sub(r'[^\\w\\s]', '', some_text)\n",
        "\n",
        "  # Remove numbers from the text\n",
        "  some_text = re.sub(r'[\\d+]', '', some_text)\n",
        "\n",
        "  #Tokenize\n",
        "  doc = word_tokenize(some_text)\n",
        "  lemmatizer = WordNetLemmatizer()\n",
        "  lemmas = [lemmatizer.lemmatize(token) for token in doc]\n",
        "  # Remove stopwords and non-alphabetic tokens\n",
        "  a_lemmas = [lemma for lemma in lemmas if lemma.isalpha() and lemma not in STOP_WORDS]\n",
        "  res = ' '. join(a_lemmas)\n",
        "\n",
        "  return res"
      ]
    },
    {
      "cell_type": "code",
      "execution_count": null,
      "metadata": {
        "id": "VXSSrfrs_sZD"
      },
      "outputs": [],
      "source": [
        "# Function to calculate positivity score\n",
        "def calculate_positivity_score(some_text):\n",
        "  with open('/content/drive/MyDrive/Punch Project/Dictionary/positive-words.txt', 'r', encoding='latin1') as text_file:\n",
        "    text = text_file.read()\n",
        "\n",
        "    # Tokenize the text\n",
        "    doc_pos = word_tokenize(text)\n",
        "\n",
        "    # Remove words in the positive words list that are also in the stopwords list\n",
        "    pos_list = [word for word in doc_pos if word not in STOP_WORDS]\n",
        "\n",
        "  # Tokenize the text\n",
        "  doc = word_tokenize(some_text)\n",
        "\n",
        "  # Calculate the postitivity score\n",
        "  positive_score = 0\n",
        "  for word in doc:\n",
        "    if word in pos_list:\n",
        "      positive_score += 1\n",
        "\n",
        "  return positive_score"
      ]
    },
    {
      "cell_type": "code",
      "execution_count": null,
      "metadata": {
        "id": "gqb7gLmF_sZE"
      },
      "outputs": [],
      "source": [
        "# Function to calculate negativity score\n",
        "def calculate_negativity_score(some_text):\n",
        "  with open('/content/drive/MyDrive/Punch Project/Dictionary/negative-words.txt', 'r', encoding='latin1') as text_file:\n",
        "    text = text_file.read()\n",
        "\n",
        "    # Tokenize the text\n",
        "    doc_neg = word_tokenize(text)\n",
        "\n",
        "    # Remove words in the negative words list that are also in the stopwords list\n",
        "    neg_list = [word for word in doc_neg if word not in STOP_WORDS]\n",
        "\n",
        "  # Tokenize the text\n",
        "  doc = word_tokenize(some_text)\n",
        "\n",
        "  # Calculate the negativity score\n",
        "  negative_score = 0\n",
        "  for word in doc:\n",
        "    if word in neg_list:\n",
        "      negative_score += 1\n",
        "\n",
        "  return negative_score"
      ]
    },
    {
      "cell_type": "code",
      "execution_count": null,
      "metadata": {
        "id": "3wqyiKPT_sZF"
      },
      "outputs": [],
      "source": [
        "# Function to calculate subjectivity score\n",
        "def calculate_polarity_score(positive_score, negative_score):\n",
        "  polarity_score = (positive_score - negative_score)/((positive_score + negative_score) + 0.000001)\n",
        "\n",
        "  return polarity_score"
      ]
    },
    {
      "cell_type": "code",
      "execution_count": null,
      "metadata": {
        "id": "Xizy022z_sZF"
      },
      "outputs": [],
      "source": [
        "# Function to calculate word count\n",
        "def calculate_word_count(some_text):\n",
        "  doc = word_tokenize(some_text)\n",
        "  word_count = len(doc)\n",
        "\n",
        "  return word_count"
      ]
    },
    {
      "cell_type": "code",
      "execution_count": null,
      "metadata": {
        "id": "GgqP7XB8_sZG"
      },
      "outputs": [],
      "source": [
        "# Function to calculate subjectivity score\n",
        "def calculate_subjectivity_score(some_text, positive_score, negative_score):\n",
        "  word_count = calculate_word_count(some_text)\n",
        "\n",
        "  subjectivity_score = (positive_score + negative_score)/(word_count + 0.000001)\n",
        "\n",
        "  return subjectivity_score"
      ]
    },
    {
      "cell_type": "code",
      "execution_count": null,
      "metadata": {
        "id": "11qx3Evg_sZG"
      },
      "outputs": [],
      "source": [
        "# Function to calculate average number of words per sentence\n",
        "def calculate_avg_sentence_len(some_text, article):\n",
        "\n",
        "  # Divide the article into a list of sentences\n",
        "  no_sentence = sent_tokenize(article)\n",
        "\n",
        "  word_count = calculate_word_count(some_text)\n",
        "\n",
        "  # Average sentence length\n",
        "  avg_sentence_len = word_count/len(no_sentence)\n",
        "\n",
        "  return avg_sentence_len"
      ]
    },
    {
      "cell_type": "code",
      "execution_count": null,
      "metadata": {
        "id": "GL6Yxmd9_sZH"
      },
      "outputs": [],
      "source": [
        "# Function to calculate complex word count\n",
        "def calculate_complex_word(some_text):\n",
        "  # Instantiate the syllable tokenizer\n",
        "  SSP = SyllableTokenizer()\n",
        "\n",
        "  # A list of words with more than 2 syllables in our text\n",
        "  complex_list = [token for token in word_tokenize(some_text) if len(SSP.tokenize(token)) > 2]\n",
        "\n",
        "  no_complex_words = len(complex_list)\n",
        "  return no_complex_words"
      ]
    },
    {
      "cell_type": "code",
      "execution_count": null,
      "metadata": {
        "id": "Df23C6Q__sZH"
      },
      "outputs": [],
      "source": [
        "# Function to calculate percentage of complex words\n",
        "def calculate_per_complex_words(no_complex_words, no_words):\n",
        "  # Percentage of complex words\n",
        "  per_complex_words = no_complex_words/no_words\n",
        "\n",
        "  return per_complex_words"
      ]
    },
    {
      "cell_type": "code",
      "execution_count": null,
      "metadata": {
        "id": "Mj6PakMw_sZI"
      },
      "outputs": [],
      "source": [
        "# Function to calculate Fog Index\n",
        "def calculate_fog_index(some_text, avg_sentence_len, no_complex_words):\n",
        "\n",
        "  no_words = calculate_word_count(some_text)\n",
        "\n",
        "  # Percentage of complex words\n",
        "  per_complex_words = calculate_per_complex_words(no_complex_words, no_words)\n",
        "\n",
        "  # Calculate fog index\n",
        "  fog_index = 0.4 * (avg_sentence_len + per_complex_words)\n",
        "\n",
        "  return fog_index"
      ]
    },
    {
      "cell_type": "code",
      "execution_count": null,
      "metadata": {
        "id": "Wcjn8fb8_sZT"
      },
      "outputs": [],
      "source": [
        "# Function to calculate syllable count per word\n",
        "def calculate_no_syllable_per_word(some_text):\n",
        "  # Instantiate our syllable Tokenizer\n",
        "  SSP = SyllableTokenizer()\n",
        "\n",
        "  # Load your Spacy tokenizer\n",
        "  nlp = spacy.load(\"en_core_web_sm\")\n",
        "\n",
        "  some_text_token = nlp(some_text)\n",
        "\n",
        "  # Remove all the \"es\" and \"ed\" syllables using lemmatization\n",
        "  lemmas = [token.lemma_ for token in some_text_token]\n",
        "\n",
        "  # Create a list of the syllables for each word\n",
        "  syllable_list = [SSP.tokenize(token) for token in lemmas]\n",
        "\n",
        "  no_syllable = 0\n",
        "  for word in syllable_list:\n",
        "    # Calculate the number of syllables for each word and add them up\n",
        "    no_syllable += len(word)\n",
        "\n",
        "  token_list = [token.text for token in some_text_token]\n",
        "\n",
        "  syllable_per_word = no_syllable/len(token_list)\n",
        "\n",
        "  return syllable_per_word"
      ]
    },
    {
      "cell_type": "code",
      "execution_count": null,
      "metadata": {
        "id": "jBszaUZc_sZU"
      },
      "outputs": [],
      "source": [
        "# Function to extract personal pronouns\n",
        "def calculate_personal_pron(some_text):\n",
        "\n",
        "  # Find the following words: I, we, my, ours. re.I ensures that you search for those words case INsensitive while (?-i:us) ensures that us is case sensitive\n",
        "  pronounRegex = re.compile(r'(I|we|my|ours|(?-i:us))',re.I)\n",
        "\n",
        "  pronouns = pronounRegex.findall(some_text)\n",
        "\n",
        "  personal_pron_count = len(pronouns)\n",
        "\n",
        "  return personal_pron_count"
      ]
    },
    {
      "cell_type": "code",
      "execution_count": null,
      "metadata": {
        "id": "f2zxzXqK_sZU"
      },
      "outputs": [],
      "source": [
        "# Function to calculate average word length\n",
        "def calculate_avg_word_len(some_text, word_count):\n",
        "  total_char = len(re.sub('\\s+', \"\", some_text))\n",
        "\n",
        "  avg_word_len = total_char/word_count\n",
        "\n",
        "  return avg_word_len"
      ]
    },
    {
      "cell_type": "markdown",
      "source": [
        "## Putting it all together"
      ],
      "metadata": {
        "id": "Sq8dJQyG70ZK"
      }
    },
    {
      "cell_type": "code",
      "execution_count": null,
      "metadata": {
        "colab": {
          "base_uri": "https://localhost:8080/"
        },
        "outputId": "cba46394-c691-47a7-9b3f-132b6f118f9d",
        "id": "xwcryuhR_sZU"
      },
      "outputs": [
        {
          "output_type": "stream",
          "name": "stdout",
          "text": [
            "https://punchng.com/presidential-inauguration-obi-didnt-call-for-boycott-postponement-lp/\n",
            "https://punchng.com/lets-reclaim-pdp-lost-glory-atiku-tasks-party-members/\n",
            "https://punchng.com/tinubull-be-fair-to-all-ex-lawmaker/\n",
            "https://punchng.com/just-in-atiku-obaseki-attend-pdps-reception-for-new-returning-governors/\n",
            "https://punchng.com/im-the-best-candidate-for-senate-president-osita-izunaso-insists/\n",
            "https://punchng.com/lp-faction-wants-tinubu-sworn-in-says-obi-asking-for-impossible/\n",
            "https://punchng.com/why-fg-approved-contracts-18-days-to-handover-minister/\n",
            "https://punchng.com/tinubu-celebrates-with-fasoranti-at-97/\n",
            "https://punchng.com/10th-assembly-wase-betara-other-aspirants-protest-zoning/\n",
            "https://punchng.com/oyo-pdp-mourns-adagunodo/\n",
            "https://punchng.com/obi-lp-back-atiku-on-request-for-live-broadcast/\n",
            "https://punchng.com/akeredolu-knocks-apc-over-nass-leadership-zoning-formula/\n",
            "https://punchng.com/adagunodo-nigeria-lost-a-patriot-atiku-mourns/\n",
            "https://punchng.com/wase-betara-other-aspirants-protest-against-abass-candidacy/\n",
            "https://punchng.com/10th-assembly-akeredolu-knocks-apc-zoning-formula/\n",
            "https://punchng.com/ooni-ex-inec-commissioner-congratulate-adeleke/\n",
            "https://punchng.com/osun-supreme-court-verdict-affirms-peoples-will-diri/\n",
            "https://punchng.com/osun-traditionalists-pledge-support-for-adeleke/\n",
            "https://punchng.com/breaking-court-adjourns-lp-obis-petition-against-tinubu-to-may-17/\n",
            "https://punchng.com/tinubu-meets-apc-consensus-candidates-for-reps-leadership/\n"
          ]
        },
        {
          "output_type": "stream",
          "name": "stderr",
          "text": [
            "/usr/local/lib/python3.10/dist-packages/nltk/tokenize/sonority_sequencing.py:102: UserWarning: Character not defined in sonority_hierarchy, assigning as vowel: 'í'\n",
            "  warnings.warn(\n",
            "/usr/local/lib/python3.10/dist-packages/nltk/tokenize/sonority_sequencing.py:102: UserWarning: Character not defined in sonority_hierarchy, assigning as vowel: 'á'\n",
            "  warnings.warn(\n",
            "/usr/local/lib/python3.10/dist-packages/nltk/tokenize/sonority_sequencing.py:102: UserWarning: Character not defined in sonority_hierarchy, assigning as vowel: 'ú'\n",
            "  warnings.warn(\n"
          ]
        },
        {
          "output_type": "stream",
          "name": "stdout",
          "text": [
            "https://punchng.com/adeleke-four-other-governors-court-handed-victories/\n",
            "https://punchng.com/house-speakership-apc-picked-me-based-on-competence-says-abbas/\n",
            "https://punchng.com/ekiti-senators-others-behind-akpabio-oyebanji/\n",
            "https://punchng.com/breaking-app-withdraws-petition-against-tinubu/\n",
            "https://punchng.com/senate-presidency-north-central-lawmakers-reject-apc-consensus-list/\n",
            "https://punchng.com/accept-adelekes-victory-oyetola-tells-osun-apc/\n",
            "https://punchng.com/presidential-poll-tribunal-to-consider-pdp-lps-live-broadcast-request/\n",
            "https://punchng.com/speaker-five-aggrieved-aspirants-team-up-against-abbas/\n",
            "https://punchng.com/final-victory-buhari-tinubu-congratulate-adeleke-supporters-jubilate/\n",
            "https://punchng.com/bvas-will-dash-hope-of-dishonest-politicians-atiku/\n",
            "https://punchng.com/osun-verdict-buhari-urges-support-for-adeleke-led-govt/\n",
            "https://punchng.com/abia-labour-party-lawmaker-backs-abass-as-hor-speaker/\n",
            "https://punchng.com/presidential-poll-tribunal-shouldnt-be-intimidated-pdp-pcc-spokesman/\n",
            "https://punchng.com/many-agreements-broken-during-elections-atikus-counsel/\n",
            "https://punchng.com/10th-nass-kalu-dumps-speakership-ambition-accepts-apc-nomination/\n",
            "https://punchng.com/adc-candidate-bello-williams-denies-quitting-kogi-governorship-race/\n",
            "https://punchng.com/buhari-assented-to-104-out-of-162-senate-bills-says-lawan/\n",
            "https://punchng.com/i-will-not-be-weak-rubber-stamp-speaker-abass/\n",
            "https://punchng.com/akpabio-a-preferred-but-not-anointed-candidate-says-ndume/\n",
            "https://punchng.com/breaking-full-list-apc-nwc-reveals-full-zoning-formula-for-national-assembly-seats/\n",
            "https://punchng.com/nass-leadership-protests-rock-apc-secretariat-over-north-central-marginalisation/\n",
            "https://punchng.com/political-appointments-women-groups-intensify-lobby-to-visit-36-govs/\n",
            "https://punchng.com/group-warns-tinubu-against-consensus-candidates-from-one-region/\n",
            "https://punchng.com/atiku-pdp-apply-for-live-coverage-of-court-proceedings/\n",
            "https://punchng.com/protest-as-north-west-backs-akpabio-for-senate-presidency/\n"
          ]
        },
        {
          "output_type": "stream",
          "name": "stderr",
          "text": [
            "/usr/local/lib/python3.10/dist-packages/nltk/tokenize/sonority_sequencing.py:102: UserWarning: Character not defined in sonority_hierarchy, assigning as vowel: 'é'\n",
            "  warnings.warn(\n"
          ]
        },
        {
          "output_type": "stream",
          "name": "stdout",
          "text": [
            "https://punchng.com/obi-visits-soyinka-one-month-after-clash-with-supporters/\n",
            "https://punchng.com/sylva-sole-financier-of-bayelsa-apc-party-chair/\n",
            "https://punchng.com/senate-presidency-south-east-senators-reject-zoning-to-south-south-caution-tinubu/\n"
          ]
        },
        {
          "output_type": "stream",
          "name": "stderr",
          "text": [
            "/usr/local/lib/python3.10/dist-packages/nltk/tokenize/sonority_sequencing.py:102: UserWarning: Character not defined in sonority_hierarchy, assigning as vowel: 'é'\n",
            "  warnings.warn(\n"
          ]
        },
        {
          "output_type": "stream",
          "name": "stdout",
          "text": [
            "https://punchng.com/national-assembly-leadership-uncertainty-as-aspirants-continue-campaigns-lobby/\n",
            "https://punchng.com/i-will-no-longer-contest-elections-oni-ekiti-ex-governor/\n",
            "https://punchng.com/post-election-crises-and-rising-instability-in-political-parties/\n",
            "https://punchng.com/nigeria-must-prevent-infiltration-of-armed-sudanese-fighters-ex-immigration-acg/\n",
            "https://punchng.com/pdp-should-concentrate-on-playing-opposition-well-aibom-rep-luke/\n",
            "https://punchng.com/part-time-legislature-not-ideal-for-nigerias-presidential-system-rep-elect-ogene/\n",
            "https://punchng.com/adeleke-denies-payment-of-half-salary-demotion-of-workers/\n",
            "https://punchng.com/tinubus-cabinet-el-rufai-may-decline-chief-of-staff-role-eyes-private-sector/\n",
            "https://punchng.com/apc-tinubu-favour-akpabio-as-senate-president-abbas-speaker/\n",
            "https://punchng.com/tinubu-salutes-yaraduas-memory-on-13th-anniversary/\n",
            "https://punchng.com/umahi-dumps-senate-presidency-ambition-backs-akpabio/\n",
            "https://punchng.com/court-to-decide-on-rights-violations-claims-against-sierra-leonean-government/\n",
            "https://punchng.com/north-west-gave-tinubu-highest-votes-deserves-senate-presidency-cng/\n",
            "https://punchng.com/medicine-after-death-buhari-leads-govs-in-plea-for-forgiveness/\n",
            "https://punchng.com/adamawa-poll-police-may-invite-binani-for-questioning/\n",
            "https://punchng.com/tinubus-promise-to-fight-corruption-laughable-pdp/\n",
            "https://punchng.com/onaiyekan-spoke-truth-to-power-says-huriwa/\n",
            "https://punchng.com/may-29-handover-again-military-warns-saboteurs-gowon-counsels-petitioners/\n",
            "https://punchng.com/abia-factional-speaker-to-probe-ikpeazu-administration/\n",
            "https://punchng.com/reps-prepare-reports-on-fuel-use-refineries-probe/\n",
            "https://punchng.com/reps-propose-absentee-voters-removal-from-register/\n",
            "https://punchng.com/presidential-poll-allow-judiciary-do-their-work-gowon-cautions-litigants/\n",
            "https://punchng.com/photos-first-batch-of-nigerian-evacuees-arrive-abuja/\n",
            "https://punchng.com/murder-trial-shouldnt-scuttle-my-speaker-bid-doguwa/\n",
            "https://punchng.com/rivers-played-major-role-in-my-victory-says-tinubu/\n",
            "https://punchng.com/usaid-wfp-stop-food-aid-to-war-torn-tigray-over-diverted-shipments/\n",
            "https://punchng.com/senate-presidency-apc-mulls-consensus-asks-lukman-to-withdraw-suit-against-adamu/\n",
            "https://punchng.com/fg-approves-n20bn-for-fire-trucks-apapa-lekki-port-projects/\n",
            "https://punchng.com/fg-senate-lock-horns-over-planned-demolition-at-lagos-airport/\n",
            "https://punchng.com/adeleke-sues-for-unity-as-osun-pdp-elects-new-exco/\n",
            "https://punchng.com/abia-assembly-factional-speaker-suspends-embattled-orji-six-others/\n",
            "https://punchng.com/prosecute-interim-govt-advocates-lp-tells-security-agencies/\n",
            "https://punchng.com/rivers-wike-contributed-to-my-victory-tinubu/\n",
            "https://punchng.com/how-i-stepped-down-for-gbajabiamila-ado-doguwa/\n",
            "https://punchng.com/pdp-unveils-melaye-as-kogi-gov-candidate/\n",
            "https://punchng.com/senate-presidency-buharis-associate-kailani-others-back-yari/\n",
            "https://punchng.com/imo-governorship-i-will-defeat-uzodinma-in-november-says-senator-anyanwu/\n",
            "https://punchng.com/i-have-delivered-on-change-agenda-buhari/\n",
            "https://punchng.com/tinubus-victory-legal-battle-begins-monday-as-tribunal-hears-petitions/\n",
            "https://punchng.com/controversial-adawama-rec-detained-insists-binani-won-poll/\n",
            "https://punchng.com/umahi-meets-buhari-says-seast-deserves-senate-presidency/\n",
            "https://punchng.com/gombe-apc-expels-another-senator-rep/\n",
            "https://punchng.com/tambuwal-swears-in-23-perm-secs-15-dgs/\n",
            "https://punchng.com/gombe-election-tribunal-begins-pre-hearing-promises-justices/\n",
            "https://punchng.com/abia-lawmakers-remove-ex-gov-orjis-son-as-speaker/\n",
            "https://punchng.com/i-have-no-regrets-announcing-binani-as-gov-elect-suspended-adamawa-rec/\n",
            "https://punchng.com/10th-assembly-coalition-of-reps-elect-backs-apc-zoning-plan/\n",
            "https://punchng.com/adamawa-gov-hails-suspended-recs-arrest/\n",
            "https://punchng.com/return-to-apc-oyebanji-urges-ex-gov-oni/\n",
            "https://punchng.com/just-in-10th-assembly-pdp-nwc-meets-reps-elect-demands-loyalty/\n",
            "https://punchng.com/nlc-tuc-order-workers-to-down-tools-in-imo-over-rights-violations/\n",
            "https://punchng.com/kogi-2023-minister-backs-ododo-to-win-perform-well-in-office/\n",
            "https://punchng.com/tinubu-infrastructure-the-key-to-economic-revival/\n",
            "https://punchng.com/tinubu-economy-requires-quick-radical-revamp/\n",
            "https://punchng.com/tinubu-reunite-the-country-restructure-or-fail/\n",
            "https://punchng.com/buhari-years-his-best-was-downright-dreadful/\n",
            "https://punchng.com/buhari-years-hard-times-for-rule-of-law-freedoms/\n",
            "https://punchng.com/buhari-years-education-health-take-severe-bashing/\n",
            "https://punchng.com/buhari-years-triumph-of-unemployment-poverty/\n",
            "https://punchng.com/buhari-years-infrastructure-deficit-remains-wide/\n",
            "https://punchng.com/buhari-years-despite-a-spurt-inertia-statism-limit-oil-sector/\n",
            "https://punchng.com/buhari-years-the-power-sector-still-a-quagmire/\n"
          ]
        },
        {
          "output_type": "stream",
          "name": "stderr",
          "text": [
            "/usr/local/lib/python3.10/dist-packages/nltk/tokenize/sonority_sequencing.py:102: UserWarning: Character not defined in sonority_hierarchy, assigning as vowel: 'Ø'\n",
            "  warnings.warn(\n",
            "/usr/local/lib/python3.10/dist-packages/nltk/tokenize/sonority_sequencing.py:102: UserWarning: Character not defined in sonority_hierarchy, assigning as vowel: 'ø'\n",
            "  warnings.warn(\n"
          ]
        },
        {
          "output_type": "stream",
          "name": "stdout",
          "text": [
            "https://punchng.com/buhari-years-despite-much-rhetoric-insecurity-triumphs/\n",
            "https://punchng.com/ninth-nass-an-indolent-weak-rubber-stamp/\n",
            "https://punchng.com/stop-the-outrageous-governors-pensions/\n",
            "https://punchng.com/10th-nass-leadership-merit-integrity-must-count/\n",
            "https://punchng.com/sell-ajaokuta-outright-not-concession/\n",
            "https://punchng.com/fg-must-recover-n4tn-amcon-debt/\n",
            "https://punchng.com/baba-tambuwal-where-are-deborahs-killers/\n",
            "https://punchng.com/ensuring-the-safety-of-foods-and-medicines/\n",
            "https://punchng.com/tackling-widespread-hunger-in-nigeria/\n",
            "https://punchng.com/too-many-buildings-are-collapsing/\n",
            "https://punchng.com/senates-dangerous-dabbling-in-religion/\n",
            "https://punchng.com/n23tn-loan-approval-caps-nass-fiscal-errors/\n",
            "https://punchng.com/nigerians-be-warned-avoid-bleaching-creams/\n",
            "https://punchng.com/the-buhari-years-how-the-anti-corruption-war-floundered/\n",
            "https://punchng.com/aviation-sector-remains-a-messy-field/\n",
            "https://punchng.com/swest-govs-drop-the-ball-on-herders-carnage/\n"
          ]
        },
        {
          "output_type": "stream",
          "name": "stderr",
          "text": [
            "/usr/local/lib/python3.10/dist-packages/nltk/tokenize/sonority_sequencing.py:102: UserWarning: Character not defined in sonority_hierarchy, assigning as vowel: 'ê'\n",
            "  warnings.warn(\n"
          ]
        },
        {
          "output_type": "stream",
          "name": "stdout",
          "text": [
            "https://punchng.com/buhari-lays-booby-traps-for-incoming-government/\n",
            "https://punchng.com/rescheduled-census-should-be-better-planned/\n",
            "https://punchng.com/psc-ig-should-stamp-out-resurgent-police-atrocities/\n",
            "https://punchng.com/the-buhari-years-an-era-of-gross-economic-fiasco/\n",
            "https://punchng.com/election-petitions-justice-please-not-technicalities/\n",
            "https://punchng.com/rigorous-efforts-needed-to-eliminate-malaria/\n",
            "https://punchng.com/el-rufais-auspicious-alert-on-bandits-terrorists/\n",
            "https://punchng.com/national-stadium-mess-shows-fgs-poor-sport-acumen/\n"
          ]
        },
        {
          "output_type": "stream",
          "name": "stderr",
          "text": [
            "/usr/local/lib/python3.10/dist-packages/nltk/tokenize/sonority_sequencing.py:102: UserWarning: Character not defined in sonority_hierarchy, assigning as vowel: 'é'\n",
            "  warnings.warn(\n"
          ]
        },
        {
          "output_type": "stream",
          "name": "stdout",
          "text": [
            "https://punchng.com/the-buhari-years-failed-promises-dashed-hopes/\n",
            "https://punchng.com/adamawa-dramatises-nigerias-rowdy-elections/\n",
            "https://punchng.com/reps-draconian-bill-on-doctors-dead-on-arrival/\n",
            "https://punchng.com/soyinkas-reminder-on-restructuring-timely/\n",
            "https://punchng.com/foreign-investment-inflow-is-not-by-chance/\n",
            "https://punchng.com/nigeria-should-stop-tolerating-mob-justice/\n",
            "https://punchng.com/transition-shun-last-minute-contracts-employment/\n",
            "https://punchng.com/botched-n70tn-case-degrades-anti-corruption-war/\n"
          ]
        },
        {
          "output_type": "stream",
          "name": "stderr",
          "text": [
            "/usr/local/lib/python3.10/dist-packages/nltk/tokenize/sonority_sequencing.py:102: UserWarning: Character not defined in sonority_hierarchy, assigning as vowel: 'ç'\n",
            "  warnings.warn(\n"
          ]
        },
        {
          "output_type": "stream",
          "name": "stdout",
          "text": [
            "https://punchng.com/nass-halt-further-loan-approvals-for-buhari/\n",
            "https://punchng.com/states-should-reverse-their-dreadful-economic-condition/\n",
            "https://punchng.com/2023-census-overcoming-the-pitfalls-hurdles/\n",
            "https://punchng.com/trumps-prosecution-a-check-on-impunity/\n",
            "https://punchng.com/human-rights-under-attack-worldwide/\n",
            "https://punchng.com/stop-the-ethnic-brickbats-now/\n",
            "https://punchng.com/revisiting-the-faulty-repentant-terrorists-narrative/\n",
            "https://punchng.com/emefieles-cbn-superintendence-so-damaging/\n",
            "https://punchng.com/unravel-citizen-chizobas-death-in-ethiopian-prison/\n",
            "https://punchng.com/fg-states-should-reverse-water-poverty/\n",
            "https://punchng.com/womens-representation-in-politics-still-too-low/\n",
            "https://punchng.com/nigeria-africa-should-eradicate-energy-poverty/\n",
            "https://punchng.com/security-agencies-should-make-elections-safer/\n",
            "https://punchng.com/federalism-constitution-amendment-bills-fall-short/\n",
            "https://punchng.com/fg-should-tread-carefully-on-subsidy-policy/\n",
            "https://punchng.com/stamp-out-cannabis-abuse-trafficking/\n",
            "https://punchng.com/resurgence-of-brutality-by-soldiers-vexatious/\n",
            "https://punchng.com/lagos-needs-to-do-more-on-air-pollution/\n",
            "https://punchng.com/police-inec-must-prosecute-electoral-offenders/\n",
            "https://punchng.com/fulani-herdsmen-rampage-must-stop/\n",
            "https://punchng.com/dont-give-up-nigerians-go-out-and-vote/\n",
            "https://punchng.com/banknotes-cbns-directive-too-little-too-late/\n",
            "https://punchng.com/reversing-the-travails-of-the-naira/\n",
            "https://punchng.com/nigeria-should-invest-in-research-innovation/\n",
            "https://punchng.com/nigerias-electoral-show-of-shame/\n",
            "https://punchng.com/inecs-election-postponement-fiasco/\n",
            "https://punchng.com/resolving-nigerias-food-nutrition-crisis/\n",
            "https://punchng.com/creeping-intolerance-of-ngos-undemocratic/\n",
            "https://punchng.com/ebonyi-giving-ebubeagu-a-bad-name/\n"
          ]
        },
        {
          "output_type": "stream",
          "name": "stderr",
          "text": [
            "/usr/local/lib/python3.10/dist-packages/nltk/tokenize/sonority_sequencing.py:102: UserWarning: Character not defined in sonority_hierarchy, assigning as vowel: 'é'\n",
            "  warnings.warn(\n"
          ]
        },
        {
          "output_type": "stream",
          "name": "stdout",
          "text": [
            "https://punchng.com/2023-polls-stop-intimidation-of-opponents-in-lagos/\n",
            "https://punchng.com/too-many-nigerians-are-missing/\n",
            "https://punchng.com/naira-crisis-attacks-on-banks-barbaric-misplaced/\n",
            "https://punchng.com/too-many-nigerian-women-children-are-dying/\n",
            "https://punchng.com/justice-for-victims-of-anambra-police-horror-den/\n",
            "https://punchng.com/agenda-2050-should-not-be-another-pipe-dream/\n",
            "https://punchng.com/elections-again-buhari-inec-police-disappoint-nigerians/\n",
            "https://punchng.com/making-nigeria-open-defecation-free/\n",
            "https://punchng.com/nigerians-be-bold-go-out-and-vote/\n",
            "https://punchng.com/2023-elections-for-inec-buhari-history-beckons/\n",
            "https://punchng.com/fgs-social-schemes-have-faltered-review-them/\n",
            "https://punchng.com/bandits-kill-toddler-seven-others-in-fresh-plateau-attack/\n",
            "https://punchng.com/pdp-demands-transparency-as-akeredolu-extends-sick-leave/\n",
            "https://punchng.com/dollar-video-submit-yourself-for-trial-group-tells-ganduje/\n",
            "https://punchng.com/fayose-will-pay-for-working-against-atiku-pdp-nec-member/\n",
            "https://punchng.com/its-illegal-for-national-assembly-to-fix-members-pay-obasanjo/\n",
            "https://punchng.com/ig-receives-committee-report-on-mobile-police-withdrawal-new-squad/\n",
            "https://punchng.com/insecurity-south-east-govs-lawmakers-to-visit-tinubu/\n",
            "https://punchng.com/some-visitors-to-aso-villa-standing-trial-for-corruption-falana/\n",
            "https://punchng.com/ill-health-akeredolu-writes-ondo-assembly-seeks-extension-of-vacation/\n",
            "https://punchng.com/lawyers-condemn-rising-attacks-murder-of-pwds/\n",
            "https://punchng.com/nigeria-witnessed-worst-corruption-under-buhari-kukah/\n",
            "https://punchng.com/apc-laments-ekiti-chairman-abduction-prays-for-akeredolu/\n",
            "https://punchng.com/security-operatives-intercept-massive-vessel-with-stolen-crude-oil-in-delta/\n",
            "https://punchng.com/ogun-tribunal-pdp-witness-chooses-cutlass-for-oath/\n",
            "https://punchng.com/just-in-tinubu-arrives-abuja-from-guinea-bissau/\n",
            "https://punchng.com/72-year-old-osun-man-commits-suicide-over-ill-health/\n",
            "https://punchng.com/fg-sues-stella-oduah-over-alleged-felony-others/\n",
            "https://punchng.com/muric-faults-adelekes-commissioners-list-says-govs-secret-can-agent/\n",
            "https://punchng.com/isese-traditionalists-warn-kwara-islamic-extremists-against-harassment-of-members/\n",
            "https://punchng.com/shina-peller-hails-tinubus-emergence-as-ecowas-chairman/\n",
            "https://punchng.com/sdp-gov-candidate-kicks-over-non-appointment-of-commissioners-by-abiodun/\n",
            "https://punchng.com/court-remands-rivers-vigilante-commander-in-prison-over-alleged-murder/\n",
            "https://punchng.com/fg-signs-mou-to-drive-pwds-inclusivity-in-public-sector/\n",
            "https://punchng.com/fg-mandates-students-to-possess-ict-skills-before-graduation/\n",
            "https://punchng.com/fg-eyes-zero-malaria-prevalence-by-2025/\n",
            "https://punchng.com/psc-appoints-new-cps-for-bayelsa-borno/\n",
            "https://punchng.com/health-workers-demand-adjustment-of-salary-structure/\n",
            "https://punchng.com/court-stops-prosecution-of-suspended-adamawa-rec/\n",
            "https://punchng.com/leadership-failure-responsible-for-insecurity-in-south-east-ohanaeze-chieftain/\n",
            "https://punchng.com/sanwo-olu-congratulates-tinubu-on-emergence-as-ecowas-chairman/\n",
            "https://punchng.com/flooding-activist-tasks-fg-on-dredging-n-delta-rivers/\n",
            "https://punchng.com/2023-hajj-first-batch-of-lagos-pilgrims-depart-makkah-for-nigeria/\n",
            "https://punchng.com/african-leaders-will-not-allow-coups-anymore-tinubu/\n"
          ]
        },
        {
          "output_type": "stream",
          "name": "stderr",
          "text": [
            "/usr/local/lib/python3.10/dist-packages/nltk/tokenize/sonority_sequencing.py:102: UserWarning: Character not defined in sonority_hierarchy, assigning as vowel: 'ó'\n",
            "  warnings.warn(\n"
          ]
        },
        {
          "output_type": "stream",
          "name": "stdout",
          "text": [
            "https://punchng.com/dont-tamper-with-nmdpra-seals-ipman-warns-kogi-marketers/\n",
            "https://punchng.com/nurtw-south-west-zone-ready-to-reconcile-union-leader/\n",
            "https://punchng.com/naccima-hails-tinubus-emergence-as-ecowas-chair/\n",
            "https://punchng.com/naat-kicks-against-200-fee-hike-by-federal-universities/\n",
            "https://punchng.com/community-pharmacists-advocate-ethical-drug-distribution-2/\n",
            "https://punchng.com/adamu-nwc-members-on-collision-course-over-apc-account-audit/\n",
            "https://punchng.com/yari-not-invited-for-ignoring-tinubus-phone-call-dss/\n",
            "https://punchng.com/apc-shifts-caucus-nec-meetings-to-honour-tinubu/\n",
            "https://punchng.com/presidency-i-worked-against-atiku-says-fayose/\n",
            "https://punchng.com/court-orders-fg-to-account-for-5bn-recovered-abachas-loot/\n",
            "https://punchng.com/uae-orders-arrest-of-man-filmed-buying-luxury-cars/\n",
            "https://punchng.com/six-killed-in-china-kindergarten-attack/\n",
            "https://punchng.com/psc-demotes-nine-orders-acp-to-refund-entitlements/\n",
            "https://punchng.com/osinbajo-promoted-good-governance-say-govs-kinsmen/\n",
            "https://punchng.com/okada-ban-errant-riders-passengers-arrested-on-highway/\n",
            "https://punchng.com/ex-asuu-president-declared-missing-found-in-turkey/\n",
            "https://punchng.com/limit-social-gatherings-over-banditry-niger-gov-urges-residents/\n",
            "https://punchng.com/28-tertiary-institutions-to-get-n174m-for-books-furniture/\n",
            "https://punchng.com/doctors-give-fg-july-19-to-meet-demands/\n",
            "https://punchng.com/rainy-season-ferma-to-fix-potholes-on-federal-roads/\n",
            "https://punchng.com/military-rescued-30-kebbi-abductees-council-chair/\n",
            "https://punchng.com/embrace-hybrid-learning/\n",
            "https://punchng.com/nurtw-lauds-tinubus-policy-direction/\n",
            "https://punchng.com/nma-donates-foodstuffs-others-to-special-students/\n",
            "https://punchng.com/ministry-experts-discuss-building-collapse/\n",
            "https://punchng.com/gov-imposes-curfew-as-gunmen-kill-12-in-plateau-attack/\n",
            "https://punchng.com/lagos-seeks-fgs-support-on-infrastructure/\n",
            "https://punchng.com/community-pharmacists-advocate-ethical-drug-distribution/\n",
            "https://punchng.com/un-seeks-end-to-genital-mutilation-in-nigeria/\n",
            "https://punchng.com/cost-of-living-more-nigerians-may-join-japa-train-as-hardship-worsens/\n",
            "https://punchng.com/tinubu-emerges-ecowas-chair-rallies-members-against-coups/\n",
            "https://punchng.com/tinubu-emerges-ecowas-chair-rallies-members-against-coups/\n",
            "https://punchng.com/fct-kingibe-visits-flooded-trademore-estate-calls-for-calm/\n",
            "https://punchng.com/governance-stagnated-over-akeredolus-health-says-ondo-pdp/\n",
            "https://punchng.com/fire-razes-radio-station-in-osun-one-injured/\n",
            "https://punchng.com/police-academy-lecturer-writes-psc-demands-promotion/\n",
            "https://punchng.com/just-in-tinubu-emerges-ecowas-chairman/\n"
          ]
        },
        {
          "output_type": "stream",
          "name": "stderr",
          "text": [
            "/usr/local/lib/python3.10/dist-packages/nltk/tokenize/sonority_sequencing.py:102: UserWarning: Character not defined in sonority_hierarchy, assigning as vowel: 'ó'\n",
            "  warnings.warn(\n"
          ]
        },
        {
          "output_type": "stream",
          "name": "stdout",
          "text": [
            "https://punchng.com/christian-group-urges-dss-to-quiz-politicians-making-inciting-comments/\n",
            "https://punchng.com/anambra-community-bans-youth-activities-collection-of-levies/\n",
            "https://punchng.com/missing-ex-asuu-president-nigerian-community-activates-contacts-combs-turkey/\n",
            "https://punchng.com/ex-edo-pdp-gov-aspirant-ikhine-defects-to-apc/\n",
            "https://punchng.com/yari-released-from-dss-custody/\n",
            "https://punchng.com/breaking-killings-mutfwang-re-imposes-24-hour-curfew-in-plateau-lg/\n",
            "https://punchng.com/dss-denies-arresting-yari-for-ignoring-tinubus-call/\n",
            "https://punchng.com/hoodlums-vandalise-sdp-office-in-kogi/\n",
            "https://punchng.com/gov-alia-condemns-killings-in-benue-communities/\n",
            "https://punchng.com/18-bus-passengers-die-in-lagos-accident/\n",
            "https://punchng.com/dessers-ready-to-replace-morelos/\n",
            "https://punchng.com/2026-wcup-qualifiers-eagles-may-draw-ghana-safrica-angola/\n",
            "https://punchng.com/only-psg-can-afford-osimhen-de-laurentiis/\n",
            "https://punchng.com/afrocan-dtigers-eye-semi-final-spot/\n",
            "https://punchng.com/onazi-joins-hong-kong-champions/\n",
            "https://punchng.com/rangers-return-thrills-balogun/\n",
            "https://punchng.com/fifa-ban-al-nassr-over-musa-transfer/\n",
            "https://punchng.com/falcons-play-australian-club-in-pre-wcup-friendly/\n",
            "https://punchng.com/waldrum-banks-on-oshoala-ajibade-for-wcup-success/\n",
            "https://punchng.com/ardova-league-niger-babes-maintain-lead-after-first-phase/\n",
            "https://punchng.com/eagles-know-2026-wcup-foes-today/\n",
            "https://punchng.com/naija-super-8-enyimba-lose-to-katsina-crash-out/\n",
            "https://punchng.com/falcons-to-watch-in-australia/\n",
            "https://punchng.com/kanu-finidi-reunite-at-enyimba/\n",
            "https://punchng.com/usman-ready-to-fight-mcgregor/\n",
            "https://punchng.com/harrison-multi-talented-beauty-in-love-with-two-sports/\n",
            "https://punchng.com/niger-delta-win-grasshoppers-flop-in-handball-league/\n",
            "https://punchng.com/nsf-ogun-names-olopade-adebajo-to-lead-loc/\n",
            "https://punchng.com/falcons-need-miracle-to-excel-in-australia-ex-coach/\n",
            "https://punchng.com/osimhen-not-easy-to-replace-garcia/\n",
            "https://punchng.com/where-are-the-middle-men/\n"
          ]
        },
        {
          "output_type": "stream",
          "name": "stderr",
          "text": [
            "/usr/local/lib/python3.10/dist-packages/nltk/tokenize/sonority_sequencing.py:102: UserWarning: Character not defined in sonority_hierarchy, assigning as vowel: 'ä'\n",
            "  warnings.warn(\n",
            "/usr/local/lib/python3.10/dist-packages/nltk/tokenize/sonority_sequencing.py:102: UserWarning: Character not defined in sonority_hierarchy, assigning as vowel: 'ó'\n",
            "  warnings.warn(\n",
            "/usr/local/lib/python3.10/dist-packages/nltk/tokenize/sonority_sequencing.py:102: UserWarning: Character not defined in sonority_hierarchy, assigning as vowel: 'é'\n",
            "  warnings.warn(\n"
          ]
        },
        {
          "output_type": "stream",
          "name": "stdout",
          "text": [
            "https://punchng.com/awoniyi-dreams-afcon-glory/\n",
            "https://punchng.com/besiktas-fans-demand-okereke-signing/\n"
          ]
        },
        {
          "output_type": "stream",
          "name": "stderr",
          "text": [
            "/usr/local/lib/python3.10/dist-packages/nltk/tokenize/sonority_sequencing.py:102: UserWarning: Character not defined in sonority_hierarchy, assigning as vowel: 'ş'\n",
            "  warnings.warn(\n",
            "/usr/local/lib/python3.10/dist-packages/nltk/tokenize/sonority_sequencing.py:102: UserWarning: Character not defined in sonority_hierarchy, assigning as vowel: 'ü'\n",
            "  warnings.warn(\n"
          ]
        },
        {
          "output_type": "stream",
          "name": "stdout",
          "text": [
            "https://punchng.com/naija-super-8-akwa-reach-semis-after-rivers-win/\n",
            "https://punchng.com/bfn-set-for-lagos-classics/\n",
            "https://punchng.com/ilechukwu-set-for-rangers-challenge/\n",
            "https://punchng.com/mbaoma-snubs-remo-for-rwandan-club/\n"
          ]
        },
        {
          "output_type": "stream",
          "name": "stderr",
          "text": [
            "/usr/local/lib/python3.10/dist-packages/nltk/tokenize/sonority_sequencing.py:102: UserWarning: Character not defined in sonority_hierarchy, assigning as vowel: 'é'\n",
            "  warnings.warn(\n"
          ]
        },
        {
          "output_type": "stream",
          "name": "stdout",
          "text": [
            "https://punchng.com/nigeria-wins-u-21-womens-volleyball-championship/\n",
            "https://punchng.com/chukwuezes-milan-move-in-jeopardy/\n",
            "https://punchng.com/rangers-legend-hails-coach-for-signing-dessers/\n",
            "https://punchng.com/naija-super-8-noble-deny-sporting-win-remo-held/\n",
            "https://punchng.com/dtigers-beat-mali-62-56-in-afrocan-opener/\n"
          ]
        },
        {
          "output_type": "stream",
          "name": "stderr",
          "text": [
            "/usr/local/lib/python3.10/dist-packages/nltk/tokenize/sonority_sequencing.py:102: UserWarning: Character not defined in sonority_hierarchy, assigning as vowel: 'ã'\n",
            "  warnings.warn(\n"
          ]
        },
        {
          "output_type": "stream",
          "name": "stdout",
          "text": [
            "https://punchng.com/ardova-handball-correction-boys-shock-safety-shooters/\n",
            "https://punchng.com/onyema-honours-boycotted-montreal-olympics-athletes-afcon-heroes/\n",
            "https://punchng.com/procurement-for-odi-erosion-control-begins-soon-says-nddc/\n",
            "https://punchng.com/psg-keen-on-osimhen-as-mbappe-replacement/\n"
          ]
        },
        {
          "output_type": "stream",
          "name": "stderr",
          "text": [
            "/usr/local/lib/python3.10/dist-packages/nltk/tokenize/sonority_sequencing.py:102: UserWarning: Character not defined in sonority_hierarchy, assigning as vowel: 'é'\n",
            "  warnings.warn(\n"
          ]
        },
        {
          "output_type": "stream",
          "name": "stdout",
          "text": [
            "https://punchng.com/dessers-perfect-striker-rohr/\n",
            "https://punchng.com/napoli-grant-osimhen-extended-holiday/\n",
            "https://punchng.com/augsburg-stuttgart-track-onuachu/\n",
            "https://punchng.com/adeleye-relishes-onana-comparision/\n",
            "https://punchng.com/forest-open-talks-with-iheanacho/\n",
            "https://punchng.com/naija-super8-sochima-hands-lobi-first-win/\n",
            "https://punchng.com/daga-confirms-euro-offers-prefers-liverpool-move/\n",
            "https://punchng.com/speaker-lauds-katsina-united-fc-for-npfl-promotion/\n",
            "https://punchng.com/england-defeat-spain-to-win-under-21-euro/\n",
            "https://punchng.com/david-de-gea-announces-exit-from-man-utd/\n",
            "https://punchng.com/match-bonus-falcons-have-no-plan-to-boycott-world-cup-game-says-onome-ebi/\n",
            "https://punchng.com/asisat-oshoala-shortlisted-for-2023-ballon-dor-award/\n",
            "https://punchng.com/account-for-falcons-960k-from-fifa-waldrum-tells-nff/\n",
            "https://punchng.com/osimhen-eagles-only-world-class-player-alex-bio/\n",
            "https://punchng.com/joshua-risks-n45bn-against-whyte/\n",
            "https://punchng.com/balogun-lured-me-to-rangers-dessers/\n",
            "https://punchng.com/madrid-eye-osimhen-as-mbappe-alternative/\n"
          ]
        },
        {
          "output_type": "stream",
          "name": "stderr",
          "text": [
            "/usr/local/lib/python3.10/dist-packages/nltk/tokenize/sonority_sequencing.py:102: UserWarning: Character not defined in sonority_hierarchy, assigning as vowel: 'é'\n",
            "  warnings.warn(\n",
            "/usr/local/lib/python3.10/dist-packages/nltk/tokenize/sonority_sequencing.py:102: UserWarning: Character not defined in sonority_hierarchy, assigning as vowel: 'Á'\n",
            "  warnings.warn(\n",
            "/usr/local/lib/python3.10/dist-packages/nltk/tokenize/sonority_sequencing.py:102: UserWarning: Character not defined in sonority_hierarchy, assigning as vowel: 'á'\n",
            "  warnings.warn(\n"
          ]
        },
        {
          "output_type": "stream",
          "name": "stdout",
          "text": [
            "https://punchng.com/whos-moved-and-whos-not/\n"
          ]
        },
        {
          "output_type": "stream",
          "name": "stderr",
          "text": [
            "/usr/local/lib/python3.10/dist-packages/nltk/tokenize/sonority_sequencing.py:102: UserWarning: Character not defined in sonority_hierarchy, assigning as vowel: 'í'\n",
            "  warnings.warn(\n"
          ]
        },
        {
          "output_type": "stream",
          "name": "stdout",
          "text": [
            "https://punchng.com/remo-beat-enyimba-in-naija-super-8-opener/\n",
            "https://punchng.com/ex-man-united-goalie-edwin-van-der-sar-suffers-brain-hemorrhage/\n",
            "https://punchng.com/uefa-clears-milan-aston-villa-brighton-to-play-in-europe/\n",
            "https://punchng.com/osimhen-demands-e7m-to-sign-new-napoli-deal/\n",
            "https://punchng.com/falcons-plan-protest-world-cup-boycott-as-nff-cancels-bonuses/\n",
            "https://punchng.com/family-announces-burial-rites-of-late-nigerian-boxer-okorodudu/\n",
            "https://punchng.com/doctor-told-me-ill-die-if-i-played-football-ogunmodede/\n",
            "https://punchng.com/joshua-whyte-rematch-for-august-12/\n",
            "https://punchng.com/villarreal-doubt-milan-interest-in-chukwueze/\n"
          ]
        },
        {
          "output_type": "stream",
          "name": "stderr",
          "text": [
            "/usr/local/lib/python3.10/dist-packages/nltk/tokenize/sonority_sequencing.py:102: UserWarning: Character not defined in sonority_hierarchy, assigning as vowel: 'à'\n",
            "  warnings.warn(\n"
          ]
        },
        {
          "output_type": "stream",
          "name": "stdout",
          "text": [
            "https://punchng.com/iwobi-set-for-everton-stay/\n",
            "https://punchng.com/nwaneri-snubs-city-chelsea-for-arsenal-stay/\n",
            "https://punchng.com/falcons-nest-at-mercure-hotel-in-australia/\n",
            "https://punchng.com/enyimba-remo-clash-as-naija-super-8-begins/\n",
            "https://punchng.com/mbaoma-fires-katsina-to-npfl/\n",
            "https://punchng.com/handball-tojemarine-triumph/\n",
            "https://punchng.com/quadri-drops-mati-omotayo-move-up-in-ittf-rankings/\n",
            "https://punchng.com/womens-wcup-21-falcons-begin-camping-in-australia/\n",
            "https://punchng.com/akpom-missing-as-boro-begin-pre-season/\n",
            "https://punchng.com/national-trials-amusan-wins-again-itsekiri-100m-king/\n",
            "https://punchng.com/npfl-lawal-applauds-eunisell-boot-initiative/\n",
            "https://punchng.com/mbappe-must-sign-new-contract-to-stay-at-psg-club-president/\n",
            "https://punchng.com/psg-appoint-luis-enrique-as-new-coach/\n",
            "https://punchng.com/barcelona-sign-martinez-from-bilbao/\n",
            "https://punchng.com/ancelotti-to-coach-brazil-from-2024-report/\n",
            "https://punchng.com/brighton-keen-on-bassey-kudus/\n",
            "https://punchng.com/handball-niger-coach-rues-missed-chances/\n",
            "https://punchng.com/foreign-investments-in-manufacturing-drops-by-35-nbs/\n",
            "https://punchng.com/ncaa-grounds-max-air-boeing-planes-probes-fuel-marketers/\n",
            "https://punchng.com/new-investment-policy-will-improve-trade-balance-naccima/\n",
            "https://punchng.com/emerging-africa-eyes-listing-on-ngx/\n",
            "https://punchng.com/access-bank-completes-acquisition-of-angolans-finibanco-2/\n",
            "https://punchng.com/dbn-raises-n23bn-for-small-scale-businesses/\n",
            "https://punchng.com/power-tariff-hike-likely-as-discos-apply-for-review/\n",
            "https://punchng.com/davichi-farms-ceo-wins-jamii-femmes-10000-grant/\n",
            "https://punchng.com/nigeria-development-banks-capitalisation-need-improvement-afdb-boss/\n",
            "https://punchng.com/uber-launches-new-safety-features/\n",
            "https://punchng.com/faan-redeploys-mmia-airport-manager/\n",
            "https://punchng.com/oil-earnings-hit-n1-68tn-as-output-rises/\n",
            "https://punchng.com/simba-tvs-unveils-tricycle-workshop-in-ibadan/\n",
            "https://punchng.com/nigeria-canada-partner-on-coffee-exports/\n",
            "https://punchng.com/lcci-urges-govt-to-expand-tax-net/\n",
            "https://punchng.com/golden-terra-gets-recognition/\n",
            "https://punchng.com/ogun-trains-account-officers/\n",
            "https://punchng.com/dangote-cement-plans-new-plants-in-nigeria-ghana-others/\n",
            "https://punchng.com/vat-revenue-rose-29-during-covid-19-say-tax-professionals/\n",
            "https://punchng.com/benin-port-to-boost-agriculture-says-obaseki/\n"
          ]
        },
        {
          "output_type": "stream",
          "name": "stderr",
          "text": [
            "/usr/local/lib/python3.10/dist-packages/nltk/tokenize/sonority_sequencing.py:102: UserWarning: Character not defined in sonority_hierarchy, assigning as vowel: 'ç'\n",
            "  warnings.warn(\n"
          ]
        },
        {
          "output_type": "stream",
          "name": "stdout",
          "text": [
            "https://punchng.com/ptad-pays-n754bn-to-pensioners-in-seven-years-says-official/\n",
            "https://punchng.com/uae-invests-225-1m-in-nigeria-as-visa-ban-persists/\n",
            "https://punchng.com/customers-worry-over-deposit-safety-despite-bank-fraud-decline/\n",
            "https://punchng.com/access-bank-completes-acquisition-of-angolans-finibanco/\n",
            "https://punchng.com/concerns-mount-over-rising-clashes-at-airports/\n",
            "https://punchng.com/ibedc-to-upgrade-metering-system/\n",
            "https://punchng.com/leadway-assurance-to-implement-new-reporting-policy/\n",
            "https://punchng.com/power-sector-gas-debt-hits-1bn-says-nga/\n",
            "https://punchng.com/57-96-million-bvn-issued-as-cbn-threatens-accounts-closure/\n",
            "https://punchng.com/court-nullifies-standard-alliances-liquidation/\n",
            "https://punchng.com/senate-probes-development-bank-over-n483bn-loan/\n",
            "https://punchng.com/otudeko-writes-fbn-over-ecobanks-petition/\n",
            "https://punchng.com/more-engineers-will-leave-nigeria-don-warns/\n",
            "https://punchng.com/new-icsan-president-to-promote-corporate-governance/\n",
            "https://punchng.com/ifc-ngx-commend-red-star-over-gender-equality/\n",
            "https://punchng.com/nigerians-can-receive-naira-for-diaspora-remittances-says-cbn/\n",
            "https://punchng.com/ops-canvasses-export-policy-for-non-oil-growth/\n",
            "https://punchng.com/nasarawa-inaugurates-2m-lng-facility/\n",
            "https://punchng.com/nnpcl-partners-to-add-192000bpd-to-crude-production/\n",
            "https://punchng.com/forex-inflows-hit-2-55bn-in-two-months/\n",
            "https://punchng.com/nigerian-oil-firms-abandon-un-2060-zero-emission-race-report/\n",
            "https://punchng.com/marketers-demand-suspension-of-vat-on-diesel/\n",
            "https://punchng.com/century-group-acquires-15m-oil-production-vessel/\n",
            "https://punchng.com/intels-empowers-81-women-in-host-communities/\n",
            "https://punchng.com/tax-removal-agents-project-15-rise-in-car-import/\n",
            "https://punchng.com/improved-port-infrastructure-will-cut-logistics-costs-operators/\n",
            "https://punchng.com/stop-5bn-annual-freight-to-foreigners-lcci-tells-fg/\n",
            "https://punchng.com/forex-scarcity-flutterwave-unveils-new-payment-platform-for-international-students/\n",
            "https://punchng.com/nigeria-redeems-500m-bond-despite-revenue-challenges/\n",
            "https://punchng.com/sec-investigates-otudekos-fbn-share-acquisition/\n",
            "https://punchng.com/nigerias-vat-performance-lowest-in-west-africa-fg/\n",
            "https://punchng.com/again-forbes-ranks-dangote-africas-richest-man/\n",
            "https://punchng.com/autogas-adoption-will-save-n1-84tn-fg/\n",
            "https://punchng.com/nigeria-may-record-700000-unwanted-pregnancies-in-2023-undp/\n",
            "https://punchng.com/cbn-advises-risk-management-practitioners-on-emerging-risks/\n",
            "https://punchng.com/nigeria-will-become-wafricas-energy-hub-says-vertex/\n",
            "https://punchng.com/when-to-consider-rebranding-as-a-business-owner/\n",
            "https://punchng.com/nnpcl-says-fg-to-renegotiate-opec-oil-quota-november/\n",
            "https://punchng.com/new-ican-president-plans-reforms/\n",
            "https://punchng.com/crc-launches-model-to-predict-credit-repayment-delay/\n",
            "https://punchng.com/nnpcl-not-getting-payments-for-gas-power-supplies-kyari/\n",
            "https://punchng.com/fmn-eyes-capital-market-for-fresh-funding/\n",
            "https://punchng.com/markhack-winners-to-undergo-training/\n",
            "https://punchng.com/fmdq-exchange-launches-derivatives-market/\n",
            "https://punchng.com/almond-finance-takes-insurance-awareness-to-abuja/\n",
            "https://punchng.com/lapo-mfb-disbursed-over-n74bn-in-q1-says-report/\n",
            "https://punchng.com/ashoka-africa-to-train-youth-in-leadership/\n",
            "https://punchng.com/dbn-empowers-over-1000-northern-msmes/\n",
            "https://punchng.com/tony-elumelu-to-join-king-charles-biden-at-climate-forum/\n",
            "https://punchng.com/clearing-agents-dump-land-borders-over-rising-charges-forex/\n",
            "https://punchng.com/faan-committee-customs-plan-partnership-on-cargo-export/\n",
            "https://punchng.com/lagos-airport-runway-light-stolen-seven-suspended/\n",
            "https://punchng.com/nigeria-now-accounts-for-33-of-africas-gas-reserves-fg/\n",
            "https://punchng.com/investors-gain-n851bn-in-one-day/\n",
            "https://punchng.com/ferma-to-repair-50-failed-roads/\n",
            "https://punchng.com/organised-private-sector-demands-policy-roadmap-for-non-oil-exports-2/\n",
            "https://punchng.com/owletapp-upgrades-payment-platform/\n",
            "https://punchng.com/sahara-group-the-comms-avenue-empower-young-pr-practitioners/\n",
            "https://punchng.com/dont-tamper-with-nmdpra-seals-association-warns-kogi-marketers/\n",
            "https://punchng.com/organised-private-sector-demands-policy-roadmap-for-non-oil-exports/\n",
            "https://punchng.com/two-injured-in-lagos-crash-motorists-stranded-in-gridlock/\n",
            "https://punchng.com/apostle-suleman-meant-to-be-killed-during-attack-suspect/\n",
            "https://punchng.com/gunmen-shoot-bauchi-businessman-dead/\n",
            "https://punchng.com/police-arrest-one-for-shooting-abuja-orphans/\n",
            "https://punchng.com/346-killed18751-displaced-in-plateau-in-three-months/\n",
            "https://punchng.com/varsity-suspends-17-year-old-student-arrested-for-robbing-man-of-n1-5m/\n",
            "https://punchng.com/two-arrested-for-attacking-lagos-man-with-machete/\n",
            "https://punchng.com/armed-men-kill-delta-policeman-at-checkpoint/\n",
            "https://punchng.com/police-arraign-two-for-attempted-murder/\n",
            "https://punchng.com/court-remands-rivers-pastor-for-defiling-teenage-church-member/\n",
            "https://punchng.com/rivers-policeman-two-others-arrested-for-armed-robbery/\n",
            "https://punchng.com/court-remands-rivers-pastor-for-allegedly-defiling-minor/\n",
            "https://punchng.com/lagos-girl-running-from-dog-dies-of-electrocution/\n",
            "https://punchng.com/ondo-pastor-bags-two-year-jail-term-for-stealing/\n",
            "https://punchng.com/faulty-transformer-plunges-ogun-community-into-four-month-blackout/\n",
            "https://punchng.com/abuja-orphan-shot-by-vigilantes-undergoes-surgery/\n",
            "https://punchng.com/new-sfu-boss-promises-to-tackle-internet-fraud/\n",
            "https://punchng.com/varsity-student-others-arrested-for-robbing-man-of-n1-5m/\n",
            "https://punchng.com/auto-dealer-in-court-for-car-theft/\n",
            "https://punchng.com/council-boss-orders-vigilantes-arrest-over-colleagues-death/\n",
            "https://punchng.com/lagos-bizman-circulating-ex-lovers-nude-photos-arraigned-gets-bail/\n",
            "https://punchng.com/ogun-so-safe-corps-arrests-robbery-gang-leader-recovers-ammunition/\n",
            "https://punchng.com/fake-lawyer-bags-three-years-jail-term-in-osun/\n",
            "https://punchng.com/anambra-police-kill-two-kidnappers-rescue-victim/\n",
            "https://punchng.com/thunderstorm-kills-three-suspected-kidnappers-in-kwara/\n",
            "https://punchng.com/ondo-pastor-jailed-two-years-for-stealing-chemicals/\n",
            "https://punchng.com/gun-wielding-hoodlums-kidnap-ebonyi-catholic-priest-three-others/\n",
            "https://punchng.com/customs-intercept-n1-3bn-smuggled-goods-arrest-seven/\n",
            "https://punchng.com/mob-lynches-bayelsa-man-over-bread-three-arrested/\n",
            "https://punchng.com/drug-addict-arrested-for-stabbing-lagos-cleric-to-death/\n",
            "https://punchng.com/court-remands-trinity-guy-minors-parents-for-52-more-days/\n",
            "https://punchng.com/cops-linked-to-admission-seekers-extortion-under-probe-police/\n",
            "https://punchng.com/lagos-mechanic-defiles-neighbours-eight-year-old-daughter/\n",
            "https://punchng.com/worker-to-die-by-hanging-for-killing-lagos-hotelier-manager/\n",
            "https://punchng.com/ogun-police-arrest-father-neighbour-for-defiling-7-year-old-girl/\n",
            "https://punchng.com/rivers-police-arrest-officers-assaulting-man-in-viral-video/\n",
            "https://punchng.com/bandits-kill-four-policemen-in-zamfara/\n",
            "https://punchng.com/gunmen-kidnap-catholic-priest-three-others-in-ebonyi/\n",
            "https://punchng.com/businessman-tackles-bank-over-n5-9m-unauthorised-withdrawal/\n",
            "https://punchng.com/family-demands-justice-as-power-drunk-vigilantes-shoot-abuja-orphans/\n",
            "https://punchng.com/five-suspects-nabbed-during-cult-initiation-in-lagos-hotel/\n",
            "https://punchng.com/extorted-admission-seeker-gets-refund-after-punch-report/\n",
            "https://punchng.com/sick-septuagenarian-shoots-self-to-death-in-osun/\n",
            "https://punchng.com/rivers-vigilante-commander-remanded-for-murder-arms-possession/\n",
            "https://punchng.com/lagos-driver-bags-life-jail-for-raping-employers-granddaughter/\n",
            "https://punchng.com/lagos-vigilantes-torture-colleague-to-death-over-phone/\n",
            "https://punchng.com/three-killed-in-edo-cult-clash/\n",
            "https://punchng.com/arrested-apc-lawmaker-in-bayelsa-released-by-police/\n",
            "https://punchng.com/immigration-officer-shoots-protester-dead-in-ogun-community/\n",
            "https://punchng.com/admission-seeker-laments-n20000-extortion-by-osun-policemen/\n",
            "https://punchng.com/immigration-issues-ogun-tourist-guides-passport-two-years-after-application/\n",
            "https://punchng.com/delta-transformer-vandal-dies-of-electrocution/\n",
            "https://punchng.com/lagos-debtor-arraigned-for-issuing-fake-cheque-to-creditor/\n",
            "https://punchng.com/father-defiles-three-underage-daughters-in-abia/\n",
            "https://punchng.com/ndlea-arrests-delta-church-workers-seizes-drugs-in-lagos-osun-adamawa/\n",
            "https://punchng.com/18-benin-republic-bound-partygoers-driver-motor-boy-die-in-lagos-crash/\n",
            "https://punchng.com/engineers-decomposing-corpse-found-in-abuja-apartment/\n",
            "https://punchng.com/gunmen-kill-church-worshipper-in-edo/\n",
            "https://punchng.com/police-raid-rivers-criminal-hideout-recovers-ammunition-military-uniforms/\n",
            "https://punchng.com/ogun-drug-factory-dismantled-suspect-arrested/\n",
            "https://punchng.com/bandits-kill-24-in-benue-communities-burn-houses/\n",
            "https://punchng.com/lagos-robbers-escape-from-prison-say-warder-received-n1m-bribe/\n",
            "https://punchng.com/osun-police-seize-cult-festival-cow/\n",
            "https://punchng.com/gunmen-abduct-ekiti-apc-chair/\n",
            "https://punchng.com/ndlea-dismantles-drugs-factory-arrests-suspect-in-ogun/\n",
            "https://punchng.com/gunmen-kidnap-rivers-businesswoman-police-begin-search/\n",
            "https://punchng.com/sit-at-home-gunmen-burn-imo-market-raze-vehicles/\n",
            "https://punchng.com/police-storm-enugu-varsity-campus-arrest-students/\n",
            "https://punchng.com/two-ondo-men-remanded-for-killing-naval-officer/\n",
            "https://punchng.com/vandals-flee-as-lagos-police-foil-oil-theft/\n",
            "https://punchng.com/arrest-how-widow-lured-lagos-bizman-circulating-ex-lovers-nudes/\n",
            "https://punchng.com/rivers-police-gun-down-six-hoodlums-recover-human-skull/\n",
            "https://punchng.com/four-killed-as-troops-battle-zamfara-bandits/\n",
            "https://punchng.com/ondo-court-remands-two-for-killing-naval-officer/\n",
            "https://punchng.com/ebonyi-police-arrest-13-sit-at-home-enforcers-two-herbalists/\n",
            "https://punchng.com/rival-cult-groups-clash-in-edo-four-feared-dead/\n",
            "https://punchng.com/rivers-police-arrest-suspected-criminal-gang-leader-recover-human-skull-arms/\n",
            "https://punchng.com/breaking-police-nab-lagos-bizman-spreading-ex-lovers-nude-photos/\n",
            "https://punchng.com/lagos-bizmans-family-condemns-nude-posts-sister-disowns-suspect/\n",
            "https://punchng.com/again-gunmen-kill-five-farmers-in-plateau/\n",
            "https://punchng.com/probe-begins-as-rampaging-cultists-kill-three-in-lagos/\n",
            "https://punchng.com/man-invades-ondo-school-during-exam-strangulates-pupil/\n",
            "https://punchng.com/rivers-pastor-impregnates-15-year-old-female-church-member-proposes-abortion/\n",
            "https://healthwise.punchng.com/over-3-5-million-nigerian-children-suffer-from-diarrhoea-annually-says-fg/\n",
            "https://healthwise.punchng.com/food-shortage-tinubu-declares-state-of-emergency-plans-500000-hectares-farmland/\n",
            "https://healthwise.punchng.com/children-between-2-and-14-account-for-70-per-cent-diphtheria-cases-ncdc/\n",
            "https://healthwise.punchng.com/early-detection-of-fetomaternal-haemorrhage-can-prevent-stillbirth-fetal-death-official/\n",
            "https://healthwise.punchng.com/public-health-expert-debunks-rumoured-cholera-outbreak-in-ibadan/\n",
            "https://healthwise.punchng.com/ndlea-intercepts-64863kg-of-nitrous-oxide-in-lagos-imo-arrests-three/\n",
            "https://healthwise.punchng.com/nigerias-exclusion-from-malaria-vaccine-rollout-will-derail-2030-eradication-goal-nma/\n",
            "https://healthwise.punchng.com/experts-call-for-quality-healthcare-delivery-through-improved-regulations/\n",
            "https://healthwise.punchng.com/fg-un-strengthens-system-to-protect-children-in-armed-conflict/\n",
            "https://healthwise.punchng.com/global-organisation-unveils-plans-to-tackle-cycle-of-poverty-disability-in-nigeria/\n",
            "https://healthwise.punchng.com/group-advocates-increased-interventions-for-enhanced-health-insurance-coverage/\n",
            "https://healthwise.punchng.com/fcta-heightens-surveillance-across-borders-to-track-anthrax-outbreak-official/\n",
            "https://healthwise.punchng.com/who-finally-declares-aspartame-possibly-carcinogenic/\n",
            "https://healthwise.punchng.com/wateraid-nigeria-targets-water-secure-lagos-within-five-year-period/\n",
            "https://healthwise.punchng.com/nigerias-exclusion-from-malaria-vaccine-allocation-will-increase-disease-burden-expert/\n",
            "https://healthwise.punchng.com/using-certain-cosmetics-in-pregnancy-may-cause-preterm-labour-low-birth-weight/\n",
            "https://healthwise.punchng.com/foundation-donates-ultra-modern-medical-centre-to-gombe-community/\n",
            "https://healthwise.punchng.com/uk-junior-doctors-to-stage-biggest-walkout-ever-today/\n",
            "https://healthwise.punchng.com/expert-says-oral-cancer-is-curable-when-presented-early/\n",
            "https://healthwise.punchng.com/expert-gives-life-saving-tips-as-police-discover-day-old-baby-in-sewage-tank/\n",
            "https://healthwise.punchng.com/fg-enrolls-500-persons-with-disabilities-into-nhis/\n",
            "https://healthwise.punchng.com/abia-govt-declares-new-multi-specialist-hospital-unfit-for-use/\n",
            "https://healthwise.punchng.com/pre-implantation-genetic-testing-prevents-severe-genetic-defect-births-fertility-experts/\n",
            "https://healthwise.punchng.com/poorly-managed-diabetes-can-cause-blindness-kidney-failure-endocrinologist/\n",
            "https://healthwise.punchng.com/how-poverty-influences-zero-dose-immunisation-in-africa-unicef/\n",
            "https://healthwise.punchng.com/nigeria-to-deploy-genome-editing-technology-in-agriculture-to-boost-food-security-nabda/\n",
            "https://healthwise.punchng.com/prioritizing-pollen-studies-can-help-hay-fever-sufferers-manage-allergies-expert/\n",
            "https://healthwise.punchng.com/increase-immunisation-coverage-to-prevent-diphtheria-vaccine-preventable-diseases-virologist-tells-fg/\n",
            "https://healthwise.punchng.com/wpd-sfh-calls-for-expanded-family-planning-services-through-private-sector/\n",
            "https://healthwise.punchng.com/foundation-gets-n1m-to-support-cancer-patients-treatment-regimen/\n",
            "https://healthwise.punchng.com/wpd-prioritising-family-planning-affordable-healthcare-will-reduce-population-explosion-physician/\n",
            "https://healthwise.punchng.com/consuming-carbide-ripened-fruits-may-cause-cancer-kidney-failure-nafdac-warns/\n",
            "https://healthwise.punchng.com/drug-hawkers-are-merchants-of-death-will-be-prosecuted-when-caught-nafdac/\n",
            "https://healthwise.punchng.com/people-with-under-treated-asthma-can-suffer-fatigue-frequent-hospitalisation-pulmonologists/\n",
            "https://healthwise.punchng.com/wpd-nigerias-increasing-population-may-worsen-child-malnutrition-increase-out-of-school-children/\n",
            "https://healthwise.punchng.com/adeleke-orders-reactivation-of-osun-emergency-response-centres-following-diphtheria-outbreak/\n",
            "https://healthwise.punchng.com/nasarawa-nma-suspends-strike-gives-govt-2-weeks-ultimatum/\n",
            "https://healthwise.punchng.com/borno-govt-commences-maternal-health-campaign-in-488-communities/\n",
            "https://healthwise.punchng.com/diphtheria-everyone-is-at-risk-protect-yourselves-says-fg/\n",
            "https://healthwise.punchng.com/fg-eyes-zero-malaria-prevalence-by-2025-through-data-analysis/\n",
            "https://healthwise.punchng.com/flood-alert-north-west-states-adopt-mitigation-measures-relocate-residents/\n",
            "https://healthwise.punchng.com/implement-high-level-technical-committee-report-on-salary-adjustment-health-workers-tell-fg/\n"
          ]
        },
        {
          "output_type": "stream",
          "name": "stderr",
          "text": [
            "/usr/local/lib/python3.10/dist-packages/nltk/tokenize/sonority_sequencing.py:102: UserWarning: Character not defined in sonority_hierarchy, assigning as vowel: 'é'\n",
            "  warnings.warn(\n"
          ]
        },
        {
          "output_type": "stream",
          "name": "stdout",
          "text": [
            "https://healthwise.punchng.com/bedwetting-may-be-sign-of-depression-in-children-physicians-say/\n",
            "https://healthwise.punchng.com/stronger-political-will-clear-commitment-needed-in-fight-against-malaria-says-researcher/\n",
            "https://healthwise.punchng.com/nafdac-partners-pre-shipment-inspection-agents-to-strengthen-food-exports/\n",
            "https://healthwise.punchng.com/community-pharmacists-advocate-ethical-drug-distribution-to-enhance-medicine-security/\n",
            "https://healthwise.punchng.com/female-genital-mutilation-grave-violation-of-human-rights-unfpa/\n",
            "https://healthwise.punchng.com/obese-children-risk-type-2-diabetes-may-suffer-same-complications-as-adults-endocrinologist/\n",
            "https://healthwise.punchng.com/mercury-exposure-hampers-foetus-children-development-experts/\n"
          ]
        },
        {
          "output_type": "stream",
          "name": "stderr",
          "text": [
            "/usr/local/lib/python3.10/dist-packages/nltk/tokenize/sonority_sequencing.py:102: UserWarning: Character not defined in sonority_hierarchy, assigning as vowel: 'ø'\n",
            "  warnings.warn(\n"
          ]
        },
        {
          "output_type": "stream",
          "name": "stdout",
          "text": [
            "https://healthwise.punchng.com/insufficient-oncologists-equipment-affecting-cancer-treatment-says-ncs/\n",
            "https://healthwise.punchng.com/political-will-required-to-immunise-67-million-children-missed-during-covid-19-pandemic-unicef/\n",
            "https://healthwise.punchng.com/my-perseverance-helped-me-to-overcome-all-odds-physically-challenged-graduate/\n",
            "https://healthwise.punchng.com/mdcn-wrong-to-downgrade-doctors-certificates-nard-president/\n"
          ]
        },
        {
          "output_type": "stream",
          "name": "stderr",
          "text": [
            "/usr/local/lib/python3.10/dist-packages/nltk/tokenize/sonority_sequencing.py:102: UserWarning: Character not defined in sonority_hierarchy, assigning as vowel: 'é'\n",
            "  warnings.warn(\n"
          ]
        },
        {
          "output_type": "stream",
          "name": "stdout",
          "text": [
            "https://healthwise.punchng.com/nurses-lament-bayelsas-refusal-to-pay-new-hazard-allowance/\n",
            "https://healthwise.punchng.com/deadly-anthrax-disease-outbreak-looms-over-poor-awareness/\n",
            "https://healthwise.punchng.com/why-nigeria-was-excluded-from-malaria-vaccine-allocation-says-gavi/\n",
            "https://healthwise.punchng.com/inhaling-nitrous-oxide-to-get-high-may-cause-brain-damage-mental-illnesses-psychiatrists/\n",
            "https://healthwise.punchng.com/rising-antenatal-care-at-tbas-fuels-child-hiv-cases-gynaecologists/\n",
            "https://healthwise.punchng.com/why-sweating-excessively-at-night-should-raise-serious-health-concerns-physicians/\n",
            "https://healthwise.punchng.com/world-not-on-track-to-achieve-universal-access-to-water-sanitation-un-agencies/\n"
          ]
        },
        {
          "output_type": "stream",
          "name": "stderr",
          "text": [
            "/usr/local/lib/python3.10/dist-packages/nltk/tokenize/sonority_sequencing.py:102: UserWarning: Character not defined in sonority_hierarchy, assigning as vowel: 'ã'\n",
            "  warnings.warn(\n"
          ]
        },
        {
          "output_type": "stream",
          "name": "stdout",
          "text": [
            "https://healthwise.punchng.com/exercising-without-sufficient-sleep-may-cause-cognitive-decline-study/\n",
            "https://healthwise.punchng.com/call-off-strike-to-save-lives-nasarawa-govt-begs-striking-doctors/\n",
            "https://healthwise.punchng.com/sanwo-olu-restates-commitment-to-safe-water/\n",
            "https://healthwise.punchng.com/public-health-expert-tells-fg-to-allocate-70-healthcare-budget-to-phcs/\n",
            "https://healthwise.punchng.com/working-beyond-40-hours-weekly-may-cause-occupational-hazards-public-health-expert-warns/\n",
            "https://healthwise.punchng.com/excessive-alcohol-intake-overburdens-liver-reduces-libido-nutritionist-warns/\n",
            "https://healthwise.punchng.com/nigeria-records-798-diphtheria-cases-80-deaths-in-33-lgas/\n",
            "https://healthwise.punchng.com/lagos-needs-efficient-regulatory-framework-for-hygiene-promotion-sanwo-olu/\n",
            "https://healthwise.punchng.com/lessons-from-covid-19-should-stimulate-fg-stakeholders-to-fund-niprd-dg/\n",
            "https://healthwise.punchng.com/nutrition-experts-task-govt-on-food-fortification-enforcement/\n",
            "https://healthwise.punchng.com/resident-doctors-issue-fg-two-week-ultimatum-over-pending-agreements/\n",
            "https://healthwise.punchng.com/unfpa-seeks-end-to-challenges-limiting-women-girls-potential/\n",
            "https://healthwise.punchng.com/set-set-up-early-cancer-diagnosis-framework-former-health-minister-urges-stakeholder/\n"
          ]
        }
      ],
      "source": [
        "input_file = '/content/drive/MyDrive/Punch Project/The Punch.xlsx'\n",
        "output_file = '/content/drive/MyDrive/Punch Project/The Punch Output File.xlsx'\n",
        "output_file_1 = '/content/drive/MyDrive/Punch Project/The Punch Cleaned File.xlsx'\n",
        "\n",
        "# Select the columns in the output excel file\n",
        "df = pd.read_excel(output_file)\n",
        "df_1 = pd.read_excel(output_file_1)\n",
        "columns = list(df.columns)\n",
        "columns_1 = list(df_1.columns)\n",
        "\n",
        "# Create an empty DataFrame for the output\n",
        "output_df = pd.DataFrame(columns=columns)\n",
        "output_df_cleaned = pd.DataFrame(columns = columns_1)\n",
        "\n",
        "\n",
        "# Iterate through each row of the input DataFrame\n",
        "for index, row in df.iterrows():\n",
        "  url = row['URL']\n",
        "\n",
        "  print(url)\n",
        "\n",
        "  article, title_name = scrape_data(url)  # Scrape data from the URL\n",
        "\n",
        "  if article:\n",
        "    data = remove_stopwords(article) # Remove stopwords from the list\n",
        "\n",
        "    # A dataframe containing the URL, cleaned data and the tag\n",
        "    output_df_cleaned.loc[index] = [df_1['URL'][index], title_name, data, df_1['TAGS'][index]]\n",
        "\n",
        "    positive_score = calculate_positivity_score(data) # Calculate the positive score\n",
        "    negative_score = calculate_negativity_score(data) # Calculate the negative score\n",
        "    polarity_score = calculate_polarity_score(positive_score, negative_score) # Calculate the polarity score\n",
        "    word_count = calculate_word_count(data) # Calculate the word count\n",
        "    subjectivity_score = calculate_subjectivity_score(data, positive_score, negative_score) # Calculate the subjectivity score\n",
        "    avg_sentence_len = calculate_avg_sentence_len(data, article) # Calculate the average number of words per sentence\n",
        "    no_complex_words = calculate_complex_word(data) # Calculate the number of complex words\n",
        "    per_complex_words = calculate_per_complex_words(no_complex_words, word_count) # Calculate the percentage of complex words\n",
        "    fog_index = calculate_fog_index(data, avg_sentence_len, no_complex_words) # Calculate the fog index\n",
        "    syllable_per_word = calculate_no_syllable_per_word(data) # Calculate the syllable per word\n",
        "    personal_pron_count = calculate_personal_pron(data) # Calculate the number of personal pronouns\n",
        "    avg_word_len = calculate_avg_word_len(data, word_count) # Calculate the average word length\n",
        "\n",
        "    output_df.loc[index] = [df['DATE PUBLISHED'][index], df['URL'][index], title_name, df['TAGS'][index], positive_score, negative_score, polarity_score, subjectivity_score,\n",
        "                            avg_sentence_len, per_complex_words, fog_index, no_complex_words, word_count,\n",
        "                            syllable_per_word, personal_pron_count, avg_word_len]\n",
        "  else:\n",
        "    output_df.loc[index] = [df['DATE PUBLISHED'][index], df['URL'][index], title_name, df['TAGS'][index], None, None, None, None,\n",
        "                            None, None, None, None, None, None, None, None]\n",
        "\n",
        "    output_df_cleaned.loc[index] = [df_1['URL'][index], None, df_1['TAGS'][index]]\n",
        "\n",
        "    continue\n",
        "\n",
        "# Save the output DataFrame to an Excel file\n",
        "output_file = '/content/drive/MyDrive/Punch Project/The Punch Output File.xlsx'\n",
        "output_df.to_excel(output_file, index = False)\n",
        "\n",
        "output_file_1 = '/content/drive/MyDrive/Punch Project/The Punch Cleaned File.xlsx'\n",
        "output_df_cleaned.to_excel(output_file_1, index = False)"
      ]
    },
    {
      "cell_type": "markdown",
      "source": [
        "### DATA ANALYSIS"
      ],
      "metadata": {
        "id": "cu9gVBSdYiNV"
      }
    },
    {
      "cell_type": "code",
      "source": [
        "data = pd.read_excel('/content/drive/MyDrive/Punch Project/The Punch Output File.xlsx')\n",
        "data.head()"
      ],
      "metadata": {
        "colab": {
          "base_uri": "https://localhost:8080/",
          "height": 583
        },
        "id": "CddcvUENYfp4",
        "outputId": "cfa88176-de68-40af-9a09-7b835450123c"
      },
      "execution_count": null,
      "outputs": [
        {
          "output_type": "execute_result",
          "data": {
            "text/plain": [
              "  DATE PUBLISHED                                                URL  \\\n",
              "0     2023-05-11  https://punchng.com/presidential-inauguration-...   \n",
              "1     2023-05-11  https://punchng.com/lets-reclaim-pdp-lost-glor...   \n",
              "2     2023-05-11  https://punchng.com/tinubull-be-fair-to-all-ex...   \n",
              "3     2023-05-11  https://punchng.com/just-in-atiku-obaseki-atte...   \n",
              "4     2023-05-11  https://punchng.com/im-the-best-candidate-for-...   \n",
              "\n",
              "                                          TITLE NAME      TAGS  \\\n",
              "0   Presidential inauguration: Obi didn’t call fo...  Politics   \n",
              "1   Let’s reclaim PDP lost glory, Atiku tasks par...  Politics   \n",
              "2            Tinubu’ll be fair to all – Ex-lawmaker   Politics   \n",
              "3   JUST IN: Atiku, Obaseki attend PDP’s receptio...  Politics   \n",
              "4   I’m the best candidate for Senate President, ...  Politics   \n",
              "\n",
              "   POSITIVE SCORE  NEGATIVE SCORE  POLARITY SCORE  SUBJECTIVITY SCORE  \\\n",
              "0               7              22       -0.517241            0.087613   \n",
              "1              21              14        0.200000            0.087719   \n",
              "2               9              10       -0.052632            0.085202   \n",
              "3               1               0        0.999999            0.010870   \n",
              "4              52               9        0.704918            0.123984   \n",
              "\n",
              "   AVG SENTENCE LENGTH  PERCENTAGE OF COMPLEX WORDS  FOG INDEX  \\\n",
              "0            17.421053                     0.371601   7.117062   \n",
              "1            14.250000                     0.393484   5.857393   \n",
              "2             9.291667                     0.430493   3.888864   \n",
              "3            23.000000                     0.369565   9.347826   \n",
              "4            21.391304                     0.467480   8.743514   \n",
              "\n",
              "   COMPLEX WORD COUNT  WORD COUNT  SYLLABLE PER WORD  PERSONAL PRONOUNS  \\\n",
              "0                 123         331           2.154079                208   \n",
              "1                 157         399           2.265664                204   \n",
              "2                  96         223           2.457399                126   \n",
              "3                  34          92           2.217391                 43   \n",
              "4                 230         492           2.361789                293   \n",
              "\n",
              "   AVG WORD LENGTH  \n",
              "0         6.151057  \n",
              "1         6.463659  \n",
              "2         6.443946  \n",
              "3         6.445652  \n",
              "4         6.678862  "
            ],
            "text/html": [
              "\n",
              "\n",
              "  <div id=\"df-97ca1eb0-d11c-4934-af27-bf0937b71195\">\n",
              "    <div class=\"colab-df-container\">\n",
              "      <div>\n",
              "<style scoped>\n",
              "    .dataframe tbody tr th:only-of-type {\n",
              "        vertical-align: middle;\n",
              "    }\n",
              "\n",
              "    .dataframe tbody tr th {\n",
              "        vertical-align: top;\n",
              "    }\n",
              "\n",
              "    .dataframe thead th {\n",
              "        text-align: right;\n",
              "    }\n",
              "</style>\n",
              "<table border=\"1\" class=\"dataframe\">\n",
              "  <thead>\n",
              "    <tr style=\"text-align: right;\">\n",
              "      <th></th>\n",
              "      <th>DATE PUBLISHED</th>\n",
              "      <th>URL</th>\n",
              "      <th>TITLE NAME</th>\n",
              "      <th>TAGS</th>\n",
              "      <th>POSITIVE SCORE</th>\n",
              "      <th>NEGATIVE SCORE</th>\n",
              "      <th>POLARITY SCORE</th>\n",
              "      <th>SUBJECTIVITY SCORE</th>\n",
              "      <th>AVG SENTENCE LENGTH</th>\n",
              "      <th>PERCENTAGE OF COMPLEX WORDS</th>\n",
              "      <th>FOG INDEX</th>\n",
              "      <th>COMPLEX WORD COUNT</th>\n",
              "      <th>WORD COUNT</th>\n",
              "      <th>SYLLABLE PER WORD</th>\n",
              "      <th>PERSONAL PRONOUNS</th>\n",
              "      <th>AVG WORD LENGTH</th>\n",
              "    </tr>\n",
              "  </thead>\n",
              "  <tbody>\n",
              "    <tr>\n",
              "      <th>0</th>\n",
              "      <td>2023-05-11</td>\n",
              "      <td>https://punchng.com/presidential-inauguration-...</td>\n",
              "      <td>Presidential inauguration: Obi didn’t call fo...</td>\n",
              "      <td>Politics</td>\n",
              "      <td>7</td>\n",
              "      <td>22</td>\n",
              "      <td>-0.517241</td>\n",
              "      <td>0.087613</td>\n",
              "      <td>17.421053</td>\n",
              "      <td>0.371601</td>\n",
              "      <td>7.117062</td>\n",
              "      <td>123</td>\n",
              "      <td>331</td>\n",
              "      <td>2.154079</td>\n",
              "      <td>208</td>\n",
              "      <td>6.151057</td>\n",
              "    </tr>\n",
              "    <tr>\n",
              "      <th>1</th>\n",
              "      <td>2023-05-11</td>\n",
              "      <td>https://punchng.com/lets-reclaim-pdp-lost-glor...</td>\n",
              "      <td>Let’s reclaim PDP lost glory, Atiku tasks par...</td>\n",
              "      <td>Politics</td>\n",
              "      <td>21</td>\n",
              "      <td>14</td>\n",
              "      <td>0.200000</td>\n",
              "      <td>0.087719</td>\n",
              "      <td>14.250000</td>\n",
              "      <td>0.393484</td>\n",
              "      <td>5.857393</td>\n",
              "      <td>157</td>\n",
              "      <td>399</td>\n",
              "      <td>2.265664</td>\n",
              "      <td>204</td>\n",
              "      <td>6.463659</td>\n",
              "    </tr>\n",
              "    <tr>\n",
              "      <th>2</th>\n",
              "      <td>2023-05-11</td>\n",
              "      <td>https://punchng.com/tinubull-be-fair-to-all-ex...</td>\n",
              "      <td>Tinubu’ll be fair to all – Ex-lawmaker</td>\n",
              "      <td>Politics</td>\n",
              "      <td>9</td>\n",
              "      <td>10</td>\n",
              "      <td>-0.052632</td>\n",
              "      <td>0.085202</td>\n",
              "      <td>9.291667</td>\n",
              "      <td>0.430493</td>\n",
              "      <td>3.888864</td>\n",
              "      <td>96</td>\n",
              "      <td>223</td>\n",
              "      <td>2.457399</td>\n",
              "      <td>126</td>\n",
              "      <td>6.443946</td>\n",
              "    </tr>\n",
              "    <tr>\n",
              "      <th>3</th>\n",
              "      <td>2023-05-11</td>\n",
              "      <td>https://punchng.com/just-in-atiku-obaseki-atte...</td>\n",
              "      <td>JUST IN: Atiku, Obaseki attend PDP’s receptio...</td>\n",
              "      <td>Politics</td>\n",
              "      <td>1</td>\n",
              "      <td>0</td>\n",
              "      <td>0.999999</td>\n",
              "      <td>0.010870</td>\n",
              "      <td>23.000000</td>\n",
              "      <td>0.369565</td>\n",
              "      <td>9.347826</td>\n",
              "      <td>34</td>\n",
              "      <td>92</td>\n",
              "      <td>2.217391</td>\n",
              "      <td>43</td>\n",
              "      <td>6.445652</td>\n",
              "    </tr>\n",
              "    <tr>\n",
              "      <th>4</th>\n",
              "      <td>2023-05-11</td>\n",
              "      <td>https://punchng.com/im-the-best-candidate-for-...</td>\n",
              "      <td>I’m the best candidate for Senate President, ...</td>\n",
              "      <td>Politics</td>\n",
              "      <td>52</td>\n",
              "      <td>9</td>\n",
              "      <td>0.704918</td>\n",
              "      <td>0.123984</td>\n",
              "      <td>21.391304</td>\n",
              "      <td>0.467480</td>\n",
              "      <td>8.743514</td>\n",
              "      <td>230</td>\n",
              "      <td>492</td>\n",
              "      <td>2.361789</td>\n",
              "      <td>293</td>\n",
              "      <td>6.678862</td>\n",
              "    </tr>\n",
              "  </tbody>\n",
              "</table>\n",
              "</div>\n",
              "      <button class=\"colab-df-convert\" onclick=\"convertToInteractive('df-97ca1eb0-d11c-4934-af27-bf0937b71195')\"\n",
              "              title=\"Convert this dataframe to an interactive table.\"\n",
              "              style=\"display:none;\">\n",
              "\n",
              "  <svg xmlns=\"http://www.w3.org/2000/svg\" height=\"24px\"viewBox=\"0 0 24 24\"\n",
              "       width=\"24px\">\n",
              "    <path d=\"M0 0h24v24H0V0z\" fill=\"none\"/>\n",
              "    <path d=\"M18.56 5.44l.94 2.06.94-2.06 2.06-.94-2.06-.94-.94-2.06-.94 2.06-2.06.94zm-11 1L8.5 8.5l.94-2.06 2.06-.94-2.06-.94L8.5 2.5l-.94 2.06-2.06.94zm10 10l.94 2.06.94-2.06 2.06-.94-2.06-.94-.94-2.06-.94 2.06-2.06.94z\"/><path d=\"M17.41 7.96l-1.37-1.37c-.4-.4-.92-.59-1.43-.59-.52 0-1.04.2-1.43.59L10.3 9.45l-7.72 7.72c-.78.78-.78 2.05 0 2.83L4 21.41c.39.39.9.59 1.41.59.51 0 1.02-.2 1.41-.59l7.78-7.78 2.81-2.81c.8-.78.8-2.07 0-2.86zM5.41 20L4 18.59l7.72-7.72 1.47 1.35L5.41 20z\"/>\n",
              "  </svg>\n",
              "      </button>\n",
              "\n",
              "\n",
              "\n",
              "    <div id=\"df-8fbacbcb-ed3c-47b7-ba17-98009d6a6b0c\">\n",
              "      <button class=\"colab-df-quickchart\" onclick=\"quickchart('df-8fbacbcb-ed3c-47b7-ba17-98009d6a6b0c')\"\n",
              "              title=\"Suggest charts.\"\n",
              "              style=\"display:none;\">\n",
              "\n",
              "<svg xmlns=\"http://www.w3.org/2000/svg\" height=\"24px\"viewBox=\"0 0 24 24\"\n",
              "     width=\"24px\">\n",
              "    <g>\n",
              "        <path d=\"M19 3H5c-1.1 0-2 .9-2 2v14c0 1.1.9 2 2 2h14c1.1 0 2-.9 2-2V5c0-1.1-.9-2-2-2zM9 17H7v-7h2v7zm4 0h-2V7h2v10zm4 0h-2v-4h2v4z\"/>\n",
              "    </g>\n",
              "</svg>\n",
              "      </button>\n",
              "    </div>\n",
              "\n",
              "<style>\n",
              "  .colab-df-quickchart {\n",
              "    background-color: #E8F0FE;\n",
              "    border: none;\n",
              "    border-radius: 50%;\n",
              "    cursor: pointer;\n",
              "    display: none;\n",
              "    fill: #1967D2;\n",
              "    height: 32px;\n",
              "    padding: 0 0 0 0;\n",
              "    width: 32px;\n",
              "  }\n",
              "\n",
              "  .colab-df-quickchart:hover {\n",
              "    background-color: #E2EBFA;\n",
              "    box-shadow: 0px 1px 2px rgba(60, 64, 67, 0.3), 0px 1px 3px 1px rgba(60, 64, 67, 0.15);\n",
              "    fill: #174EA6;\n",
              "  }\n",
              "\n",
              "  [theme=dark] .colab-df-quickchart {\n",
              "    background-color: #3B4455;\n",
              "    fill: #D2E3FC;\n",
              "  }\n",
              "\n",
              "  [theme=dark] .colab-df-quickchart:hover {\n",
              "    background-color: #434B5C;\n",
              "    box-shadow: 0px 1px 3px 1px rgba(0, 0, 0, 0.15);\n",
              "    filter: drop-shadow(0px 1px 2px rgba(0, 0, 0, 0.3));\n",
              "    fill: #FFFFFF;\n",
              "  }\n",
              "</style>\n",
              "\n",
              "    <script>\n",
              "      async function quickchart(key) {\n",
              "        const containerElement = document.querySelector('#' + key);\n",
              "        const charts = await google.colab.kernel.invokeFunction(\n",
              "            'suggestCharts', [key], {});\n",
              "      }\n",
              "    </script>\n",
              "\n",
              "      <script>\n",
              "\n",
              "function displayQuickchartButton(domScope) {\n",
              "  let quickchartButtonEl =\n",
              "    domScope.querySelector('#df-8fbacbcb-ed3c-47b7-ba17-98009d6a6b0c button.colab-df-quickchart');\n",
              "  quickchartButtonEl.style.display =\n",
              "    google.colab.kernel.accessAllowed ? 'block' : 'none';\n",
              "}\n",
              "\n",
              "        displayQuickchartButton(document);\n",
              "      </script>\n",
              "      <style>\n",
              "    .colab-df-container {\n",
              "      display:flex;\n",
              "      flex-wrap:wrap;\n",
              "      gap: 12px;\n",
              "    }\n",
              "\n",
              "    .colab-df-convert {\n",
              "      background-color: #E8F0FE;\n",
              "      border: none;\n",
              "      border-radius: 50%;\n",
              "      cursor: pointer;\n",
              "      display: none;\n",
              "      fill: #1967D2;\n",
              "      height: 32px;\n",
              "      padding: 0 0 0 0;\n",
              "      width: 32px;\n",
              "    }\n",
              "\n",
              "    .colab-df-convert:hover {\n",
              "      background-color: #E2EBFA;\n",
              "      box-shadow: 0px 1px 2px rgba(60, 64, 67, 0.3), 0px 1px 3px 1px rgba(60, 64, 67, 0.15);\n",
              "      fill: #174EA6;\n",
              "    }\n",
              "\n",
              "    [theme=dark] .colab-df-convert {\n",
              "      background-color: #3B4455;\n",
              "      fill: #D2E3FC;\n",
              "    }\n",
              "\n",
              "    [theme=dark] .colab-df-convert:hover {\n",
              "      background-color: #434B5C;\n",
              "      box-shadow: 0px 1px 3px 1px rgba(0, 0, 0, 0.15);\n",
              "      filter: drop-shadow(0px 1px 2px rgba(0, 0, 0, 0.3));\n",
              "      fill: #FFFFFF;\n",
              "    }\n",
              "  </style>\n",
              "\n",
              "      <script>\n",
              "        const buttonEl =\n",
              "          document.querySelector('#df-97ca1eb0-d11c-4934-af27-bf0937b71195 button.colab-df-convert');\n",
              "        buttonEl.style.display =\n",
              "          google.colab.kernel.accessAllowed ? 'block' : 'none';\n",
              "\n",
              "        async function convertToInteractive(key) {\n",
              "          const element = document.querySelector('#df-97ca1eb0-d11c-4934-af27-bf0937b71195');\n",
              "          const dataTable =\n",
              "            await google.colab.kernel.invokeFunction('convertToInteractive',\n",
              "                                                     [key], {});\n",
              "          if (!dataTable) return;\n",
              "\n",
              "          const docLinkHtml = 'Like what you see? Visit the ' +\n",
              "            '<a target=\"_blank\" href=https://colab.research.google.com/notebooks/data_table.ipynb>data table notebook</a>'\n",
              "            + ' to learn more about interactive tables.';\n",
              "          element.innerHTML = '';\n",
              "          dataTable['output_type'] = 'display_data';\n",
              "          await google.colab.output.renderOutput(dataTable, element);\n",
              "          const docLink = document.createElement('div');\n",
              "          docLink.innerHTML = docLinkHtml;\n",
              "          element.appendChild(docLink);\n",
              "        }\n",
              "      </script>\n",
              "    </div>\n",
              "  </div>\n"
            ]
          },
          "metadata": {},
          "execution_count": 4
        }
      ]
    },
    {
      "cell_type": "markdown",
      "source": [
        "AVERAGE FOG INDEX"
      ],
      "metadata": {
        "id": "zxERP6xDau-Y"
      }
    },
    {
      "cell_type": "code",
      "source": [
        "average_fog_index = data['FOG INDEX'].mean()\n",
        "print(average_fog_index)"
      ],
      "metadata": {
        "colab": {
          "base_uri": "https://localhost:8080/"
        },
        "id": "bZnYAZ-SZis8",
        "outputId": "9bc5395c-7012-4b2e-bb2d-d49a777bb6d6"
      },
      "execution_count": null,
      "outputs": [
        {
          "output_type": "stream",
          "name": "stdout",
          "text": [
            "6.325771756892892\n"
          ]
        }
      ]
    },
    {
      "cell_type": "markdown",
      "source": [
        "AVERAGE SUBJECTIVITY OF THE ARTICLES"
      ],
      "metadata": {
        "id": "Pgr7K0o_cPoN"
      }
    },
    {
      "cell_type": "code",
      "source": [
        "average_subjectivity = data['SUBJECTIVITY SCORE'].mean()\n",
        "print(average_subjectivity)"
      ],
      "metadata": {
        "colab": {
          "base_uri": "https://localhost:8080/"
        },
        "id": "tci91L85cPFT",
        "outputId": "b7d41f16-3684-4e7b-e751-0843b18421f6"
      },
      "execution_count": null,
      "outputs": [
        {
          "output_type": "stream",
          "name": "stdout",
          "text": [
            "0.08911143353352624\n"
          ]
        }
      ]
    },
    {
      "cell_type": "markdown",
      "source": [
        "WHICH CATEGORY HAS THE MOST POSITIVE EMOTION?"
      ],
      "metadata": {
        "id": "YRkxI4zzcwIu"
      }
    },
    {
      "cell_type": "code",
      "source": [
        "tags_df = data.groupby('TAGS').mean()\n",
        "\n",
        "tags_df.sort_values(by='POLARITY SCORE', ascending= False)['POLARITY SCORE']"
      ],
      "metadata": {
        "colab": {
          "base_uri": "https://localhost:8080/"
        },
        "id": "_5hD3SP2c5aL",
        "outputId": "9170dd63-3db9-47f1-a19f-083822c1d850"
      },
      "execution_count": null,
      "outputs": [
        {
          "output_type": "stream",
          "name": "stderr",
          "text": [
            "<ipython-input-18-2838ce991477>:1: FutureWarning: The default value of numeric_only in DataFrameGroupBy.mean is deprecated. In a future version, numeric_only will default to False. Either specify numeric_only or select only columns which should be valid for the function.\n",
            "  tags_df = data.groupby('TAGS').mean()\n"
          ]
        },
        {
          "output_type": "execute_result",
          "data": {
            "text/plain": [
              "TAGS\n",
              "Sport             0.369845\n",
              "Business          0.365503\n",
              "Politics          0.157121\n",
              "News             -0.094879\n",
              "General Health   -0.121839\n",
              "Editorial        -0.363592\n",
              "Metro Plus       -0.485386\n",
              "Name: POLARITY SCORE, dtype: float64"
            ]
          },
          "metadata": {},
          "execution_count": 18
        }
      ]
    },
    {
      "cell_type": "markdown",
      "source": [
        "WHICH CATEGORY HAS THE LOWEST NUMBER OF WORDS?"
      ],
      "metadata": {
        "id": "mrqOu1weem04"
      }
    },
    {
      "cell_type": "code",
      "source": [
        "tags_df.sort_values(by='WORD COUNT')['WORD COUNT']"
      ],
      "metadata": {
        "colab": {
          "base_uri": "https://localhost:8080/"
        },
        "id": "nq60wb70e009",
        "outputId": "d39e206d-3130-433f-ae15-50f6cfaf703c"
      },
      "execution_count": null,
      "outputs": [
        {
          "output_type": "execute_result",
          "data": {
            "text/plain": [
              "TAGS\n",
              "Metro Plus        204.180723\n",
              "Sport             206.812500\n",
              "News              209.575000\n",
              "Business          230.762500\n",
              "Politics          348.620000\n",
              "General Health    379.187500\n",
              "Editorial         666.268293\n",
              "Name: WORD COUNT, dtype: float64"
            ]
          },
          "metadata": {},
          "execution_count": 17
        }
      ]
    },
    {
      "cell_type": "markdown",
      "source": [
        "## REFERENCES\n",
        "The negative and positive text files were sourced from:\n",
        "https://www.cs.uic.edu/~liub/FBS/sentiment-analysis.html#lexicon\n",
        "\n",
        "Minqing Hu and Bing Liu. \"Mining and Summarizing Customer Reviews.\"\n",
        ";       Proceedings of the ACM SIGKDD International Conference on Knowledge\n",
        ";       Discovery and Data Mining (KDD-2004), Aug 22-25, 2004, Seattle,\n",
        ";       Washington, USA,\n"
      ],
      "metadata": {
        "id": "F4fAScVX_sZV"
      }
    }
  ]
}